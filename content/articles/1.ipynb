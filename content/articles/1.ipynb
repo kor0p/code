{
 "cells": [
  {
   "metadata": {},
   "cell_type": "markdown",
   "source": "[Стаття на Друкарні](https://drukarnia.com.ua/articles/paiton-deskriptori-sho-ce-4BgZO)",
   "id": "2c81aec4444717b0"
  },
  {
   "metadata": {},
   "cell_type": "code",
   "outputs": [
    {
     "name": "stdout",
     "output_type": "stream",
     "text": [
      "10\n",
      "25\n",
      "60\n"
     ]
    }
   ],
   "execution_count": 1,
   "source": [
    "class CountDescriptor:\n",
    "    def __init__(self, base_count=0):\n",
    "        self.count = base_count\n",
    "\n",
    "    def __get__(self, instance, owner):\n",
    "        if instance is None:  # зчитуємо атрибут класу\n",
    "            return self.count\n",
    "        return self.count + instance.count\n",
    "\n",
    "\n",
    "class Container:\n",
    "    total = CountDescriptor(10)\n",
    "\n",
    "    def __init__(self, count=15):\n",
    "        self.count = count\n",
    "\n",
    "print(Container.total)\n",
    "print(Container().total)\n",
    "print(Container(50).total)"
   ],
   "id": "initial_id"
  },
  {
   "metadata": {
    "ExecuteTime": {
     "end_time": "2024-06-02T20:49:31.230290Z",
     "start_time": "2024-06-02T20:49:31.219662Z"
    }
   },
   "cell_type": "code",
   "source": [
    "class AsyncCountDescriptor:\n",
    "    def __init__(self, base_count=0):\n",
    "        self.count = base_count\n",
    "\n",
    "    async def __get__(self, instance, owner):\n",
    "        if instance is None:  # зчитуємо атрибут класу\n",
    "            return self.count\n",
    "        return self.count + instance.count\n",
    "\n",
    "\n",
    "class AsyncContainer:\n",
    "    total = AsyncCountDescriptor(10)\n",
    "\n",
    "    def __init__(self, count=15):\n",
    "        self.count = count\n",
    "\n",
    "print(await AsyncContainer.total)\n",
    "print(await AsyncContainer().total)\n",
    "print(await AsyncContainer(50).total)"
   ],
   "id": "52967a10260ef8e1",
   "outputs": [
    {
     "name": "stdout",
     "output_type": "stream",
     "text": [
      "10\n",
      "25\n",
      "60\n"
     ]
    }
   ],
   "execution_count": 2
  },
  {
   "metadata": {
    "ExecuteTime": {
     "end_time": "2024-06-02T20:49:32.029427Z",
     "start_time": "2024-06-02T20:49:32.015996Z"
    }
   },
   "cell_type": "code",
   "source": "AsyncContainer.total",
   "id": "ac3c195bba507064",
   "outputs": [
    {
     "data": {
      "text/plain": [
       "<coroutine object AsyncCountDescriptor.__get__ at 0x7f16003801e0>"
      ]
     },
     "execution_count": 3,
     "metadata": {},
     "output_type": "execute_result"
    }
   ],
   "execution_count": 3
  }
 ],
 "metadata": {
  "kernelspec": {
   "display_name": "Python 3",
   "language": "python",
   "name": "python3"
  },
  "language_info": {
   "codemirror_mode": {
    "name": "ipython",
    "version": 2
   },
   "file_extension": ".py",
   "mimetype": "text/x-python",
   "name": "python",
   "nbconvert_exporter": "python",
   "pygments_lexer": "ipython2",
   "version": "2.7.6"
  }
 },
 "nbformat": 4,
 "nbformat_minor": 5
}

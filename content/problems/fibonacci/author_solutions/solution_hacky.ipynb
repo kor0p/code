{
 "cells": [
  {
   "cell_type": "code",
   "id": "initial_id",
   "metadata": {
    "collapsed": true,
    "ExecuteTime": {
     "end_time": "2024-06-09T21:17:32.111133Z",
     "start_time": "2024-06-09T21:17:32.102087Z"
    }
   },
   "source": [
    "from decimal import Decimal, getcontext\n",
    "\n",
    "def fib(n):\n",
    "    getcontext().prec = 42\n",
    "    s5 = Decimal(5).sqrt()\n",
    "\n",
    "    #          / 1 + √5 \\ n         / 1 - √5 \\ n\n",
    "    #          |————————|     -     |————————|\n",
    "    #          \\   2    /           \\   2    /\n",
    "    #  F(n) ≈ ——————————————————————————————————\n",
    "    #                         √5\n",
    "    #\n",
    "    # https://en.wikipedia.org/wiki/Fibonacci_sequence#Relation_to_the_golden_ratio\n",
    "\n",
    "    return int(( ((1 + s5)/2) ** n - ((1 - s5)/2) ** n ) / s5)"
   ],
   "outputs": [],
   "execution_count": 1
  },
  {
   "metadata": {
    "ExecuteTime": {
     "end_time": "2024-06-09T21:17:32.666922Z",
     "start_time": "2024-06-09T21:17:32.658847Z"
    }
   },
   "cell_type": "code",
   "source": [
    "assert fib(1) == 1\n",
    "assert fib(2) == 1\n",
    "assert fib(3) == 2\n",
    "assert fib(4) == 3\n",
    "assert fib(5) == 5\n",
    "assert fib(6) == 8\n",
    "assert fib(7) == 13\n",
    "assert fib(8) == 21\n",
    "assert fib(9) == 34\n",
    "assert fib(10) == 55\n",
    "assert fib(20) == 6765\n",
    "assert fib(50) == 12586269025\n",
    "assert fib(100) == 354224848179261915075"
   ],
   "id": "dc8afc01132244f3",
   "outputs": [],
   "execution_count": 2
  },
  {
   "metadata": {
    "ExecuteTime": {
     "end_time": "2024-06-09T21:17:33.489659Z",
     "start_time": "2024-06-09T21:17:33.367930Z"
    }
   },
   "cell_type": "code",
   "source": [
    "import timeit\n",
    "\n",
    "\n",
    "print(timeit.timeit(lambda: fib(1), number=1000))\n",
    "print(timeit.timeit(lambda: fib(10), number=1000))\n",
    "print(timeit.timeit(lambda: fib(20), number=1000))\n",
    "print(timeit.timeit(lambda: fib(50), number=1000))\n",
    "print(timeit.timeit(lambda: fib(100), number=1000))\n",
    "print(timeit.timeit(lambda: fib(1000), number=1000))"
   ],
   "id": "7defd86fdc58fd17",
   "outputs": [
    {
     "name": "stdout",
     "output_type": "stream",
     "text": [
      "0.016466212000523228\n",
      "0.021886201000597794\n",
      "0.023073887001373805\n",
      "0.020493738000368467\n",
      "0.011637293002422666\n",
      "0.015769335001095897\n"
     ]
    }
   ],
   "execution_count": 3
  },
  {
   "metadata": {},
   "cell_type": "markdown",
   "source": "Результат: 0.10932с",
   "id": "e584e04fc9e74b1b"
  }
 ],
 "metadata": {
  "kernelspec": {
   "display_name": "Python 3",
   "language": "python",
   "name": "python3"
  },
  "language_info": {
   "codemirror_mode": {
    "name": "ipython",
    "version": 2
   },
   "file_extension": ".py",
   "mimetype": "text/x-python",
   "name": "python",
   "nbconvert_exporter": "python",
   "pygments_lexer": "ipython2",
   "version": "2.7.6"
  }
 },
 "nbformat": 4,
 "nbformat_minor": 5
}

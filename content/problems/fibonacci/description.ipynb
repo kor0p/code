{
 "cells": [
  {
   "metadata": {},
   "cell_type": "markdown",
   "source": [
    "### Задача #1:\n",
    "\n",
    "Потрібно написати функцію `fib`, що повертатиме н-ний елемент послідовності Фібоначчі\n",
    "\n",
    "Послідовність починається з двох одиниць, і продовжується сумою двох попередніх елементів, тобто: 1, 1, 2, 3, 5, 8, 13, 21 і тд\n",
    "\n",
    "Ваші відповіді надсилайте у бот [@python_kor0p_bot](https://t.me/python_kor0p_bot)\n",
    "#\n",
    "\n",
    "Переможці:\n",
    "1. Код, що виконується найшвидше\n",
    "2. Код, що сподобається підписникам у голосуванні\n",
    "\n",
    "Винагорода (на вибір):\n",
    "- 2 години менторства від мене\n",
    "- 100 грн"
   ],
   "id": "fcf3c7184cccd6b1"
  },
  {
   "metadata": {},
   "cell_type": "markdown",
   "source": "Ось код, який перевірить коректність роботи функції",
   "id": "423a9b5d1d4abd2f"
  },
  {
   "metadata": {},
   "cell_type": "code",
   "outputs": [],
   "execution_count": null,
   "source": [
    "assert fib(1) == 1\n",
    "assert fib(2) == 1\n",
    "assert fib(3) == 2\n",
    "assert fib(4) == 3\n",
    "assert fib(5) == 5\n",
    "assert fib(6) == 8\n",
    "assert fib(7) == 13\n",
    "assert fib(8) == 21\n",
    "assert fib(9) == 34\n",
    "assert fib(10) == 55\n",
    "assert fib(20) == 6765\n",
    "assert fib(50) == 12586269025\n",
    "assert fib(100) == 354224848179261915075"
   ],
   "id": "c8b0d1be36f52580"
  },
  {
   "metadata": {},
   "cell_type": "markdown",
   "source": "Ось код, який вирахує швидкодію вашої реалізації",
   "id": "158d4920dd69132b"
  },
  {
   "metadata": {},
   "cell_type": "code",
   "outputs": [],
   "execution_count": null,
   "source": [
    "import timeit\n",
    "\n",
    "\n",
    "print(timeit.timeit(lambda: fib(1), number=1000))\n",
    "print(timeit.timeit(lambda: fib(10), number=1000))\n",
    "print(timeit.timeit(lambda: fib(20), number=1000))\n",
    "print(timeit.timeit(lambda: fib(50), number=1000))\n",
    "print(timeit.timeit(lambda: fib(100), number=1000))\n",
    "print(timeit.timeit(lambda: fib(1000), number=1000))"
   ],
   "id": "70755e162900e031"
  }
 ],
 "metadata": {
  "kernelspec": {
   "display_name": "Python 3",
   "language": "python",
   "name": "python3"
  },
  "language_info": {
   "codemirror_mode": {
    "name": "ipython",
    "version": 2
   },
   "file_extension": ".py",
   "mimetype": "text/x-python",
   "name": "python",
   "nbconvert_exporter": "python",
   "pygments_lexer": "ipython2",
   "version": "2.7.6"
  }
 },
 "nbformat": 4,
 "nbformat_minor": 5
}

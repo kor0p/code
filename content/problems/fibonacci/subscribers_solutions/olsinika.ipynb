{
 "cells": [
  {
   "metadata": {},
   "cell_type": "markdown",
   "source": "Автор: [@olsinika](https://t.me/olsinika)",
   "id": "6df03ead470447a7"
  },
  {
   "cell_type": "code",
   "id": "initial_id",
   "metadata": {
    "collapsed": true,
    "ExecuteTime": {
     "end_time": "2024-06-09T21:16:34.680368Z",
     "start_time": "2024-06-09T21:16:34.675051Z"
    }
   },
   "source": [
    "def fib(n):\n",
    "    if n <= 0:\n",
    "        raise ValueError(\"Input should be a positive integer.\")\n",
    "    elif n == 1 or n == 2:\n",
    "        return 1\n",
    "    else:\n",
    "        return fib(n - 1) + fib(n - 2)"
   ],
   "outputs": [],
   "execution_count": 1
  },
  {
   "metadata": {
    "ExecuteTime": {
     "end_time": "2024-06-09T21:16:35.393753Z",
     "start_time": "2024-06-09T21:16:35.383041Z"
    }
   },
   "cell_type": "code",
   "source": [
    "assert fib(1) == 1\n",
    "assert fib(2) == 1\n",
    "assert fib(3) == 2\n",
    "assert fib(4) == 3\n",
    "assert fib(5) == 5\n",
    "assert fib(6) == 8\n",
    "assert fib(7) == 13\n",
    "assert fib(8) == 21\n",
    "assert fib(9) == 34\n",
    "assert fib(10) == 55\n",
    "assert fib(20) == 6765\n",
    "# assert fib(50) == 12586269025             # TOO LONG\n",
    "# assert fib(100) == 354224848179261915075  # TOO LONG"
   ],
   "id": "488512943e78439c",
   "outputs": [],
   "execution_count": 2
  },
  {
   "metadata": {
    "ExecuteTime": {
     "end_time": "2024-06-09T21:16:59.533638Z",
     "start_time": "2024-06-09T21:16:35.981850Z"
    }
   },
   "cell_type": "code",
   "source": [
    "import timeit\n",
    "\n",
    "\n",
    "print(timeit.timeit(lambda: fib(1), number=1000))\n",
    "print(timeit.timeit(lambda: fib(10), number=1000))\n",
    "print(timeit.timeit(lambda: fib(20), number=1000))\n",
    "print(timeit.timeit(lambda: fib(40), number=1))\n",
    "# print(timeit.timeit(lambda: fib(50), number=1000))    # TOO LONG\n",
    "# print(timeit.timeit(lambda: fib(100), number=1000))   # TOO LONG\n",
    "# print(timeit.timeit(lambda: fib(1000), number=1000))  # TOO LONG"
   ],
   "id": "a0bc204bf3105a69",
   "outputs": [
    {
     "name": "stdout",
     "output_type": "stream",
     "text": [
      "0.0005134810016897973\n",
      "0.016156165998836514\n",
      "1.4854351339999994\n",
      "22.03937691900137\n"
     ]
    }
   ],
   "execution_count": 3
  },
  {
   "metadata": {},
   "cell_type": "markdown",
   "source": [
    "Виконання функції для вхідного значення n=40 займають більше 20 секунд лише для одного запуску\n",
    "\n",
    "Результат точно не попадає у найшвидші, тому дослідження результатів для 100 і більше — не проводились узагалі 🫤"
   ],
   "id": "5ff8a10303c08702"
  },
  {
   "metadata": {},
   "cell_type": "markdown",
   "source": "Результат > 23.54148с",
   "id": "8cea69d5df37dbd"
  }
 ],
 "metadata": {
  "kernelspec": {
   "display_name": "Python 3",
   "language": "python",
   "name": "python3"
  },
  "language_info": {
   "codemirror_mode": {
    "name": "ipython",
    "version": 2
   },
   "file_extension": ".py",
   "mimetype": "text/x-python",
   "name": "python",
   "nbconvert_exporter": "python",
   "pygments_lexer": "ipython2",
   "version": "2.7.6"
  }
 },
 "nbformat": 4,
 "nbformat_minor": 5
}

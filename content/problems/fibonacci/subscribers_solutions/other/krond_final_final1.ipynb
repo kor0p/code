{
 "cells": [
  {
   "metadata": {},
   "cell_type": "markdown",
   "source": "Автор: [@krond](https://t.me/krond)",
   "id": "273ebb71f1ec8c7d"
  },
  {
   "metadata": {
    "ExecuteTime": {
     "end_time": "2024-06-11T05:53:53.370403Z",
     "start_time": "2024-06-11T05:53:53.363420Z"
    }
   },
   "cell_type": "code",
   "source": [
    "fib_store = [0, 1, 1]\n",
    "fib_len = 3\n",
    "\n",
    "def fib(pos):\n",
    "    global fib_store, fib_len\n",
    "    if fib_len > pos:\n",
    "        return(fib_store[pos])\n",
    "    (a, b) = fib_store[-2:]\n",
    "    for fill in range(fib_len, pos + 1):\n",
    "        fib_len += 1\n",
    "        c = a + b\n",
    "        fib_store.append(c)\n",
    "        (a, b) = (b, c)\n",
    "    return(b)\n"
   ],
   "id": "71925152329f67bd",
   "outputs": [],
   "execution_count": 1
  },
  {
   "metadata": {
    "ExecuteTime": {
     "end_time": "2024-06-11T05:53:53.975590Z",
     "start_time": "2024-06-11T05:53:53.969095Z"
    }
   },
   "cell_type": "code",
   "source": [
    "assert fib(1) == 1\n",
    "assert fib(2) == 1\n",
    "assert fib(3) == 2\n",
    "assert fib(4) == 3\n",
    "assert fib(5) == 5\n",
    "assert fib(6) == 8\n",
    "assert fib(7) == 13\n",
    "assert fib(8) == 21\n",
    "assert fib(9) == 34\n",
    "assert fib(10) == 55\n",
    "assert fib(20) == 6765\n",
    "assert fib(50) == 12586269025\n",
    "assert fib(100) == 354224848179261915075"
   ],
   "id": "e468551b5482d2a1",
   "outputs": [],
   "execution_count": 2
  },
  {
   "metadata": {
    "ExecuteTime": {
     "end_time": "2024-06-11T05:53:56.359554Z",
     "start_time": "2024-06-11T05:53:56.348146Z"
    }
   },
   "cell_type": "code",
   "source": [
    "import timeit\n",
    "\n",
    "\n",
    "print(timeit.timeit(lambda: fib(1), number=1000))\n",
    "print(timeit.timeit(lambda: fib(10), number=1000))\n",
    "print(timeit.timeit(lambda: fib(20), number=1000))\n",
    "print(timeit.timeit(lambda: fib(50), number=1000))\n",
    "print(timeit.timeit(lambda: fib(100), number=1000))\n",
    "print(timeit.timeit(lambda: fib(1000), number=1000))"
   ],
   "id": "46a0c752aa2e6aed",
   "outputs": [
    {
     "name": "stdout",
     "output_type": "stream",
     "text": [
      "0.00012716000492218882\n",
      "0.00014253999688662589\n",
      "0.0001233930015587248\n",
      "0.0001319799994234927\n",
      "0.0005571539950324222\n",
      "0.0004718729978776537\n"
     ]
    }
   ],
   "execution_count": 3
  },
  {
   "metadata": {},
   "cell_type": "markdown",
   "source": "Результат: 0.00155c",
   "id": "5584923dfca9294e"
  }
 ],
 "metadata": {
  "kernelspec": {
   "display_name": "Python 3",
   "language": "python",
   "name": "python3"
  },
  "language_info": {
   "codemirror_mode": {
    "name": "ipython",
    "version": 2
   },
   "file_extension": ".py",
   "mimetype": "text/x-python",
   "name": "python",
   "nbconvert_exporter": "python",
   "pygments_lexer": "ipython2",
   "version": "2.7.6"
  }
 },
 "nbformat": 4,
 "nbformat_minor": 5
}

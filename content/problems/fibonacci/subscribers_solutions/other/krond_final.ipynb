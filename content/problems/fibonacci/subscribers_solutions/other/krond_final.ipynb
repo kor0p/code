{
 "cells": [
  {
   "metadata": {},
   "cell_type": "markdown",
   "source": "Автор: [@krond](https://t.me/krond)",
   "id": "273ebb71f1ec8c7d"
  },
  {
   "metadata": {
    "ExecuteTime": {
     "end_time": "2024-06-11T05:51:47.255516Z",
     "start_time": "2024-06-11T05:51:47.244865Z"
    }
   },
   "cell_type": "code",
   "source": [
    "fib_store = [0, 1, 1]\n",
    "fib_len = 3\n",
    "\n",
    "def fib(pos):\n",
    "    global fib_store, fib_len\n",
    "    if fib_len > pos:\n",
    "        return(fib_store[pos])\n",
    "    if fib_len == pos:\n",
    "        (a, b) = fib_store[-2:]\n",
    "        fib_len += 1\n",
    "        next = a + b\n",
    "        fib_store.append(next)\n",
    "        return(next)\n",
    "    if fib_len < pos:\n",
    "        fib(pos - 1)\n",
    "        (a, b) = fib_store[-2:]\n",
    "        fib_len += 1\n",
    "        next = a + b\n",
    "        fib_store.append(next)\n",
    "        return(next)\n"
   ],
   "id": "71925152329f67bd",
   "outputs": [],
   "execution_count": 1
  },
  {
   "metadata": {
    "ExecuteTime": {
     "end_time": "2024-06-11T05:51:48.162067Z",
     "start_time": "2024-06-11T05:51:48.153199Z"
    }
   },
   "cell_type": "code",
   "source": [
    "assert fib(1) == 1\n",
    "assert fib(2) == 1\n",
    "assert fib(3) == 2\n",
    "assert fib(4) == 3\n",
    "assert fib(5) == 5\n",
    "assert fib(6) == 8\n",
    "assert fib(7) == 13\n",
    "assert fib(8) == 21\n",
    "assert fib(9) == 34\n",
    "assert fib(10) == 55\n",
    "assert fib(20) == 6765\n",
    "assert fib(50) == 12586269025\n",
    "assert fib(100) == 354224848179261915075"
   ],
   "id": "e468551b5482d2a1",
   "outputs": [],
   "execution_count": 2
  },
  {
   "metadata": {
    "ExecuteTime": {
     "end_time": "2024-06-11T05:51:48.999939Z",
     "start_time": "2024-06-11T05:51:48.986740Z"
    }
   },
   "cell_type": "code",
   "source": [
    "import timeit\n",
    "\n",
    "\n",
    "print(timeit.timeit(lambda: fib(1), number=1000))\n",
    "print(timeit.timeit(lambda: fib(10), number=1000))\n",
    "print(timeit.timeit(lambda: fib(20), number=1000))\n",
    "print(timeit.timeit(lambda: fib(50), number=1000))\n",
    "print(timeit.timeit(lambda: fib(100), number=1000))\n",
    "print(timeit.timeit(lambda: fib(1000), number=1000))"
   ],
   "id": "46a0c752aa2e6aed",
   "outputs": [
    {
     "name": "stdout",
     "output_type": "stream",
     "text": [
      "0.00015652600268367678\n",
      "0.00013163899711798877\n",
      "0.0001252369984285906\n",
      "0.00012436500401236117\n",
      "0.0001239440025528893\n",
      "0.0009024879982462153\n"
     ]
    }
   ],
   "execution_count": 3
  },
  {
   "metadata": {},
   "cell_type": "markdown",
   "source": "Результат: 0.00156c",
   "id": "5584923dfca9294e"
  }
 ],
 "metadata": {
  "kernelspec": {
   "display_name": "Python 3",
   "language": "python",
   "name": "python3"
  },
  "language_info": {
   "codemirror_mode": {
    "name": "ipython",
    "version": 2
   },
   "file_extension": ".py",
   "mimetype": "text/x-python",
   "name": "python",
   "nbconvert_exporter": "python",
   "pygments_lexer": "ipython2",
   "version": "2.7.6"
  }
 },
 "nbformat": 4,
 "nbformat_minor": 5
}

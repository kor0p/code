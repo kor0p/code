{
 "cells": [
  {
   "metadata": {},
   "cell_type": "markdown",
   "source": "Автор: [@krond](https://t.me/krond)",
   "id": "273ebb71f1ec8c7d"
  },
  {
   "metadata": {
    "ExecuteTime": {
     "end_time": "2024-06-11T05:52:49.561475Z",
     "start_time": "2024-06-11T05:52:49.550596Z"
    }
   },
   "cell_type": "code",
   "source": [
    "fib_store = [0, 1, 1]\n",
    "fib_len = 3\n",
    "\n",
    "def fib(pos):\n",
    "    global fib_store, fib_len\n",
    "    if fib_len > pos:\n",
    "        return(fib_store[pos])\n",
    "    for fill in range(fib_len, pos + 1):\n",
    "        (a, b) = fib_store[-2:]\n",
    "        fib_len += 1\n",
    "        fib_store.append(a + b)\n",
    "    return(fib_store[pos])\n"
   ],
   "id": "71925152329f67bd",
   "outputs": [],
   "execution_count": 1
  },
  {
   "metadata": {
    "ExecuteTime": {
     "end_time": "2024-06-11T05:52:50.320214Z",
     "start_time": "2024-06-11T05:52:50.312086Z"
    }
   },
   "cell_type": "code",
   "source": [
    "assert fib(1) == 1\n",
    "assert fib(2) == 1\n",
    "assert fib(3) == 2\n",
    "assert fib(4) == 3\n",
    "assert fib(5) == 5\n",
    "assert fib(6) == 8\n",
    "assert fib(7) == 13\n",
    "assert fib(8) == 21\n",
    "assert fib(9) == 34\n",
    "assert fib(10) == 55\n",
    "assert fib(20) == 6765\n",
    "assert fib(50) == 12586269025\n",
    "assert fib(100) == 354224848179261915075"
   ],
   "id": "e468551b5482d2a1",
   "outputs": [],
   "execution_count": 2
  },
  {
   "metadata": {
    "ExecuteTime": {
     "end_time": "2024-06-11T05:52:51.208913Z",
     "start_time": "2024-06-11T05:52:51.193111Z"
    }
   },
   "cell_type": "code",
   "source": [
    "import timeit\n",
    "\n",
    "\n",
    "print(timeit.timeit(lambda: fib(1), number=1000))\n",
    "print(timeit.timeit(lambda: fib(10), number=1000))\n",
    "print(timeit.timeit(lambda: fib(20), number=1000))\n",
    "print(timeit.timeit(lambda: fib(50), number=1000))\n",
    "print(timeit.timeit(lambda: fib(100), number=1000))\n",
    "print(timeit.timeit(lambda: fib(1000), number=1000))"
   ],
   "id": "46a0c752aa2e6aed",
   "outputs": [
    {
     "name": "stdout",
     "output_type": "stream",
     "text": [
      "0.00015620500198565423\n",
      "0.00015157700545387343\n",
      "0.00015104600606719032\n",
      "0.00019522000366123393\n",
      "0.00015684700338169932\n",
      "0.0006713710026815534\n"
     ]
    }
   ],
   "execution_count": 3
  },
  {
   "metadata": {},
   "cell_type": "markdown",
   "source": "Результат: 0.00148c",
   "id": "5584923dfca9294e"
  }
 ],
 "metadata": {
  "kernelspec": {
   "display_name": "Python 3",
   "language": "python",
   "name": "python3"
  },
  "language_info": {
   "codemirror_mode": {
    "name": "ipython",
    "version": 2
   },
   "file_extension": ".py",
   "mimetype": "text/x-python",
   "name": "python",
   "nbconvert_exporter": "python",
   "pygments_lexer": "ipython2",
   "version": "2.7.6"
  }
 },
 "nbformat": 4,
 "nbformat_minor": 5
}

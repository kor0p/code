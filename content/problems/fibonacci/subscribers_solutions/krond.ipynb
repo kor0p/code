{
 "cells": [
  {
   "metadata": {},
   "cell_type": "markdown",
   "source": "Автор: [@krond](https://t.me/krond)",
   "id": "ce6765e1cf26c59d"
  },
  {
   "cell_type": "code",
   "id": "initial_id",
   "metadata": {
    "collapsed": true,
    "ExecuteTime": {
     "end_time": "2024-06-09T21:08:06.285771Z",
     "start_time": "2024-06-09T21:08:06.278597Z"
    }
   },
   "source": [
    "fib_store = [0, 1, 1]\n",
    "fib_len = 3\n",
    "\n",
    "def fib(pos):\n",
    "    global fib_store, fib_len\n",
    "    try:\n",
    "        return(fib_store[pos])\n",
    "    except IndexError:\n",
    "        (a, b) = fib_store[-2:]\n",
    "        for fill in range(fib_len, pos + 1):\n",
    "            fib_len += 1\n",
    "            c = a + b\n",
    "            fib_store.append(c)\n",
    "            (a, b) = (b, c)\n",
    "        return(b)\n"
   ],
   "outputs": [],
   "execution_count": 1
  },
  {
   "metadata": {
    "ExecuteTime": {
     "end_time": "2024-06-09T21:08:07.364283Z",
     "start_time": "2024-06-09T21:08:07.355764Z"
    }
   },
   "cell_type": "code",
   "source": [
    "assert fib(1) == 1\n",
    "assert fib(2) == 1\n",
    "assert fib(3) == 2\n",
    "assert fib(4) == 3\n",
    "assert fib(5) == 5\n",
    "assert fib(6) == 8\n",
    "assert fib(7) == 13\n",
    "assert fib(8) == 21\n",
    "assert fib(9) == 34\n",
    "assert fib(10) == 55\n",
    "assert fib(20) == 6765\n",
    "assert fib(50) == 12586269025\n",
    "assert fib(100) == 354224848179261915075"
   ],
   "id": "7261ef3d8c4538b4",
   "outputs": [],
   "execution_count": 2
  },
  {
   "metadata": {
    "ExecuteTime": {
     "end_time": "2024-06-09T21:08:10.650669Z",
     "start_time": "2024-06-09T21:08:10.636625Z"
    }
   },
   "cell_type": "code",
   "source": [
    "import timeit\n",
    "\n",
    "\n",
    "print(timeit.timeit(lambda: fib(1), number=1000))\n",
    "print(timeit.timeit(lambda: fib(10), number=1000))\n",
    "print(timeit.timeit(lambda: fib(20), number=1000))\n",
    "print(timeit.timeit(lambda: fib(50), number=1000))\n",
    "print(timeit.timeit(lambda: fib(100), number=1000))\n",
    "print(timeit.timeit(lambda: fib(1000), number=1000))"
   ],
   "id": "6f6caddba2e4f39d",
   "outputs": [
    {
     "name": "stdout",
     "output_type": "stream",
     "text": [
      "0.00016933000006247312\n",
      "0.00020809299894608557\n",
      "0.00017364899758831598\n",
      "0.00014018499859957956\n",
      "0.00016604399934294634\n",
      "0.0006273260005400516\n"
     ]
    }
   ],
   "execution_count": 3
  },
  {
   "metadata": {},
   "cell_type": "markdown",
   "source": "Результат: 0.00148с",
   "id": "654e45801ab5f104"
  }
 ],
 "metadata": {
  "kernelspec": {
   "display_name": "Python 3",
   "language": "python",
   "name": "python3"
  },
  "language_info": {
   "codemirror_mode": {
    "name": "ipython",
    "version": 2
   },
   "file_extension": ".py",
   "mimetype": "text/x-python",
   "name": "python",
   "nbconvert_exporter": "python",
   "pygments_lexer": "ipython2",
   "version": "2.7.6"
  }
 },
 "nbformat": 4,
 "nbformat_minor": 5
}

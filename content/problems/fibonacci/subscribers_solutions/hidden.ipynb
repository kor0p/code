{
 "cells": [
  {
   "metadata": {},
   "cell_type": "markdown",
   "source": "Автор: [Hidden](tg://user?id=5775997304)",
   "id": "908c880ead24777f"
  },
  {
   "cell_type": "code",
   "id": "initial_id",
   "metadata": {
    "collapsed": true,
    "ExecuteTime": {
     "end_time": "2024-06-09T21:08:19.489598Z",
     "start_time": "2024-06-09T21:08:19.484684Z"
    }
   },
   "source": [
    "def fib(n):\n",
    "  a = b = 1\n",
    "  for _ in range(2, n):\n",
    "    a, b = b, a + b  \n",
    "  return b"
   ],
   "outputs": [],
   "execution_count": 1
  },
  {
   "metadata": {
    "ExecuteTime": {
     "end_time": "2024-06-09T21:08:22.070010Z",
     "start_time": "2024-06-09T21:08:22.059905Z"
    }
   },
   "cell_type": "code",
   "source": [
    "assert fib(1) == 1\n",
    "assert fib(2) == 1\n",
    "assert fib(3) == 2\n",
    "assert fib(4) == 3\n",
    "assert fib(5) == 5\n",
    "assert fib(6) == 8\n",
    "assert fib(7) == 13\n",
    "assert fib(8) == 21\n",
    "assert fib(9) == 34\n",
    "assert fib(10) == 55\n",
    "assert fib(20) == 6765\n",
    "assert fib(50) == 12586269025\n",
    "assert fib(100) == 354224848179261915075"
   ],
   "id": "1f9f5fdbda2451db",
   "outputs": [],
   "execution_count": 2
  },
  {
   "metadata": {
    "ExecuteTime": {
     "end_time": "2024-06-09T21:08:23.108488Z",
     "start_time": "2024-06-09T21:08:22.957760Z"
    }
   },
   "cell_type": "code",
   "source": [
    "import timeit\n",
    "\n",
    "\n",
    "print(timeit.timeit(lambda: fib(1), number=1000))\n",
    "print(timeit.timeit(lambda: fib(10), number=1000))\n",
    "print(timeit.timeit(lambda: fib(20), number=1000))\n",
    "print(timeit.timeit(lambda: fib(50), number=1000))\n",
    "print(timeit.timeit(lambda: fib(100), number=1000))\n",
    "print(timeit.timeit(lambda: fib(1000), number=1000))"
   ],
   "id": "32906eb591ab264c",
   "outputs": [
    {
     "name": "stdout",
     "output_type": "stream",
     "text": [
      "0.0002711929992074147\n",
      "0.0006238200003281236\n",
      "0.0013168000004952773\n",
      "0.005521789997146698\n",
      "0.0069715319987153634\n",
      "0.12663597400023718\n"
     ]
    }
   ],
   "execution_count": 3
  },
  {
   "metadata": {},
   "cell_type": "markdown",
   "source": "Результат: 0.14134с",
   "id": "bcebfe207ef4871f"
  }
 ],
 "metadata": {
  "kernelspec": {
   "display_name": "Python 3",
   "language": "python",
   "name": "python3"
  },
  "language_info": {
   "codemirror_mode": {
    "name": "ipython",
    "version": 2
   },
   "file_extension": ".py",
   "mimetype": "text/x-python",
   "name": "python",
   "nbconvert_exporter": "python",
   "pygments_lexer": "ipython2",
   "version": "2.7.6"
  }
 },
 "nbformat": 4,
 "nbformat_minor": 5
}

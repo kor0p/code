{
 "metadata": {
  "kernelspec": {
   "name": "python",
   "display_name": "Python (Pyodide)",
   "language": "python"
  },
  "language_info": {
   "codemirror_mode": {
    "name": "python",
    "version": 3
   },
   "file_extension": ".py",
   "mimetype": "text/x-python",
   "name": "python",
   "nbconvert_exporter": "python",
   "pygments_lexer": "ipython3",
   "version": "3.8"
  }
 },
 "nbformat_minor": 4,
 "nbformat": 4,
 "cells": [
  {
   "cell_type": "markdown",
   "source": [
    "Коли треба видалити текст з кінця стрічки, краще використовувати `removesuffix`, оскільки `strip` не завжди робить те, що вам треба"
   ],
   "metadata": {
    "jp-MarkdownHeadingCollapsed": true
   }
  },
  {
   "cell_type": "code",
   "source": [
    "text = 'конкурс Колосок (200 ок)'"
   ],
   "metadata": {
    "trusted": true
   },
   "outputs": [],
   "execution_count": 20
  },
  {
   "cell_type": "code",
   "source": [
    "text.strip(' (200 ок)')"
   ],
   "metadata": {
    "trusted": true
   },
   "outputs": [
    {
     "execution_count": 22,
     "output_type": "execute_result",
     "data": {
      "text/plain": "'нкурс Колос'"
     },
     "metadata": {}
    }
   ],
   "execution_count": 22
  },
  {
   "cell_type": "code",
   "source": [
    "text.removesuffix(' (200 ок)')"
   ],
   "metadata": {
    "trusted": true
   },
   "outputs": [
    {
     "execution_count": 23,
     "output_type": "execute_result",
     "data": {
      "text/plain": "'конкурс Колосок'"
     },
     "metadata": {}
    }
   ],
   "execution_count": 23
  },
  {
   "cell_type": "markdown",
   "source": [
    "Якщо треба прибрати текст на початку, спробуйте `removeprefix`"
   ],
   "metadata": {}
  },
  {
   "cell_type": "code",
   "source": [
    "text = '[логи Сервера] Северин сказав \"Добре\"'"
   ],
   "metadata": {
    "trusted": true
   },
   "outputs": [],
   "execution_count": 13
  },
  {
   "cell_type": "code",
   "source": [
    "text.lstrip('[логи Сервера] ')"
   ],
   "metadata": {
    "trusted": true
   },
   "outputs": [
    {
     "execution_count": 14,
     "output_type": "execute_result",
     "data": {
      "text/plain": "'н сказав \"Добре\"'"
     },
     "metadata": {}
    }
   ],
   "execution_count": 14
  },
  {
   "cell_type": "code",
   "source": [
    "text.removeprefix('[логи Сервера] ')"
   ],
   "metadata": {
    "trusted": true
   },
   "outputs": [
    {
     "execution_count": 15,
     "output_type": "execute_result",
     "data": {
      "text/plain": "'Северин сказав \"Добре\"'"
     },
     "metadata": {}
    }
   ],
   "execution_count": 15
  }
 ]
}

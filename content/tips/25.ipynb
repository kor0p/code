{
 "cells": [
  {
   "cell_type": "code",
   "id": "initial_id",
   "metadata": {
    "collapsed": true,
    "ExecuteTime": {
     "end_time": "2024-05-25T19:34:20.035475Z",
     "start_time": "2024-05-25T19:34:19.704740Z"
    }
   },
   "source": [
    "bad = lambda: 1/0\n",
    "\n",
    "try:\n",
    "    bad()\n",
    "except ZeroDivisionError as err:\n",
    "    err.add_note('На нуль ділити не можна')\n",
    "    raise"
   ],
   "outputs": [
    {
     "ename": "ZeroDivisionError",
     "evalue": "division by zero",
     "output_type": "error",
     "traceback": [
      "\u001B[0;31m---------------------------------------------------------------------------\u001B[0m",
      "\u001B[0;31mZeroDivisionError\u001B[0m                         Traceback (most recent call last)",
      "Cell \u001B[0;32mIn[1], line 4\u001B[0m\n\u001B[1;32m      1\u001B[0m bad \u001B[38;5;241m=\u001B[39m \u001B[38;5;28;01mlambda\u001B[39;00m: \u001B[38;5;241m1\u001B[39m\u001B[38;5;241m/\u001B[39m\u001B[38;5;241m0\u001B[39m\n\u001B[1;32m      3\u001B[0m \u001B[38;5;28;01mtry\u001B[39;00m:\n\u001B[0;32m----> 4\u001B[0m     \u001B[43mbad\u001B[49m\u001B[43m(\u001B[49m\u001B[43m)\u001B[49m\n\u001B[1;32m      5\u001B[0m \u001B[38;5;28;01mexcept\u001B[39;00m \u001B[38;5;167;01mZeroDivisionError\u001B[39;00m \u001B[38;5;28;01mas\u001B[39;00m err:\n\u001B[1;32m      6\u001B[0m     err\u001B[38;5;241m.\u001B[39madd_note(\u001B[38;5;124m'\u001B[39m\u001B[38;5;124mНа нуль ділити не можна\u001B[39m\u001B[38;5;124m'\u001B[39m)\n",
      "Cell \u001B[0;32mIn[1], line 1\u001B[0m, in \u001B[0;36m<lambda>\u001B[0;34m()\u001B[0m\n\u001B[0;32m----> 1\u001B[0m bad \u001B[38;5;241m=\u001B[39m \u001B[38;5;28;01mlambda\u001B[39;00m: \u001B[38;5;241;43m1\u001B[39;49m\u001B[38;5;241;43m/\u001B[39;49m\u001B[38;5;241;43m0\u001B[39;49m\n\u001B[1;32m      3\u001B[0m \u001B[38;5;28;01mtry\u001B[39;00m:\n\u001B[1;32m      4\u001B[0m     bad()\n",
      "\u001B[0;31mZeroDivisionError\u001B[0m: division by zero",
      "\u001B[0mНа нуль ділити не можна"
     ]
    }
   ],
   "execution_count": 1
  },
  {
   "cell_type": "code",
   "source": [
    "try:\n",
    "    bad()\n",
    "except ZeroDivisionError as err:\n",
    "    err.add_note('На нуль ділити не можна')\n",
    "    raise err  # Те саме"
   ],
   "metadata": {
    "collapsed": false,
    "ExecuteTime": {
     "end_time": "2024-05-25T19:34:20.975272Z",
     "start_time": "2024-05-25T19:34:20.910039Z"
    }
   },
   "id": "354fb625039420fa",
   "outputs": [
    {
     "ename": "ZeroDivisionError",
     "evalue": "division by zero",
     "output_type": "error",
     "traceback": [
      "\u001B[0;31m---------------------------------------------------------------------------\u001B[0m",
      "\u001B[0;31mZeroDivisionError\u001B[0m                         Traceback (most recent call last)",
      "Cell \u001B[0;32mIn[2], line 5\u001B[0m\n\u001B[1;32m      3\u001B[0m \u001B[38;5;28;01mexcept\u001B[39;00m \u001B[38;5;167;01mZeroDivisionError\u001B[39;00m \u001B[38;5;28;01mas\u001B[39;00m err:\n\u001B[1;32m      4\u001B[0m     err\u001B[38;5;241m.\u001B[39madd_note(\u001B[38;5;124m'\u001B[39m\u001B[38;5;124mНа нуль ділити не можна\u001B[39m\u001B[38;5;124m'\u001B[39m)\n\u001B[0;32m----> 5\u001B[0m     \u001B[38;5;28;01mraise\u001B[39;00m err  \u001B[38;5;66;03m# Те саме\u001B[39;00m\n",
      "Cell \u001B[0;32mIn[2], line 2\u001B[0m\n\u001B[1;32m      1\u001B[0m \u001B[38;5;28;01mtry\u001B[39;00m:\n\u001B[0;32m----> 2\u001B[0m     \u001B[43mbad\u001B[49m\u001B[43m(\u001B[49m\u001B[43m)\u001B[49m\n\u001B[1;32m      3\u001B[0m \u001B[38;5;28;01mexcept\u001B[39;00m \u001B[38;5;167;01mZeroDivisionError\u001B[39;00m \u001B[38;5;28;01mas\u001B[39;00m err:\n\u001B[1;32m      4\u001B[0m     err\u001B[38;5;241m.\u001B[39madd_note(\u001B[38;5;124m'\u001B[39m\u001B[38;5;124mНа нуль ділити не можна\u001B[39m\u001B[38;5;124m'\u001B[39m)\n",
      "Cell \u001B[0;32mIn[1], line 1\u001B[0m, in \u001B[0;36m<lambda>\u001B[0;34m()\u001B[0m\n\u001B[0;32m----> 1\u001B[0m bad \u001B[38;5;241m=\u001B[39m \u001B[38;5;28;01mlambda\u001B[39;00m: \u001B[38;5;241;43m1\u001B[39;49m\u001B[38;5;241;43m/\u001B[39;49m\u001B[38;5;241;43m0\u001B[39;49m\n\u001B[1;32m      3\u001B[0m \u001B[38;5;28;01mtry\u001B[39;00m:\n\u001B[1;32m      4\u001B[0m     bad()\n",
      "\u001B[0;31mZeroDivisionError\u001B[0m: division by zero",
      "\u001B[0mНа нуль ділити не можна"
     ]
    }
   ],
   "execution_count": 2
  },
  {
   "metadata": {
    "ExecuteTime": {
     "end_time": "2024-05-25T19:34:21.891875Z",
     "start_time": "2024-05-25T19:34:21.839788Z"
    }
   },
   "cell_type": "code",
   "source": [
    "try:\n",
    "    bad()\n",
    "except ZeroDivisionError as err:\n",
    "    err.add_note('На нуль ділити не можна')\n",
    "    print(err.__notes__)\n",
    "    raise"
   ],
   "id": "401489bf68a98a7b",
   "outputs": [
    {
     "name": "stdout",
     "output_type": "stream",
     "text": [
      "['На нуль ділити не можна']\n"
     ]
    },
    {
     "ename": "ZeroDivisionError",
     "evalue": "division by zero",
     "output_type": "error",
     "traceback": [
      "\u001B[0;31m---------------------------------------------------------------------------\u001B[0m",
      "\u001B[0;31mZeroDivisionError\u001B[0m                         Traceback (most recent call last)",
      "Cell \u001B[0;32mIn[3], line 2\u001B[0m\n\u001B[1;32m      1\u001B[0m \u001B[38;5;28;01mtry\u001B[39;00m:\n\u001B[0;32m----> 2\u001B[0m     \u001B[43mbad\u001B[49m\u001B[43m(\u001B[49m\u001B[43m)\u001B[49m\n\u001B[1;32m      3\u001B[0m \u001B[38;5;28;01mexcept\u001B[39;00m \u001B[38;5;167;01mZeroDivisionError\u001B[39;00m \u001B[38;5;28;01mas\u001B[39;00m err:\n\u001B[1;32m      4\u001B[0m     err\u001B[38;5;241m.\u001B[39madd_note(\u001B[38;5;124m'\u001B[39m\u001B[38;5;124mНа нуль ділити не можна\u001B[39m\u001B[38;5;124m'\u001B[39m)\n",
      "Cell \u001B[0;32mIn[1], line 1\u001B[0m, in \u001B[0;36m<lambda>\u001B[0;34m()\u001B[0m\n\u001B[0;32m----> 1\u001B[0m bad \u001B[38;5;241m=\u001B[39m \u001B[38;5;28;01mlambda\u001B[39;00m: \u001B[38;5;241;43m1\u001B[39;49m\u001B[38;5;241;43m/\u001B[39;49m\u001B[38;5;241;43m0\u001B[39;49m\n\u001B[1;32m      3\u001B[0m \u001B[38;5;28;01mtry\u001B[39;00m:\n\u001B[1;32m      4\u001B[0m     bad()\n",
      "\u001B[0;31mZeroDivisionError\u001B[0m: division by zero",
      "\u001B[0mНа нуль ділити не можна"
     ]
    }
   ],
   "execution_count": 3
  },
  {
   "metadata": {
    "ExecuteTime": {
     "end_time": "2024-05-25T19:34:22.943175Z",
     "start_time": "2024-05-25T19:34:22.877034Z"
    }
   },
   "cell_type": "code",
   "source": [
    "try:\n",
    "    bad()\n",
    "except ZeroDivisionError as err:\n",
    "    print(err.__notes__)"
   ],
   "id": "5b18f57ce353af05",
   "outputs": [
    {
     "ename": "AttributeError",
     "evalue": "'ZeroDivisionError' object has no attribute '__notes__'",
     "output_type": "error",
     "traceback": [
      "\u001B[0;31m---------------------------------------------------------------------------\u001B[0m",
      "\u001B[0;31mZeroDivisionError\u001B[0m                         Traceback (most recent call last)",
      "Cell \u001B[0;32mIn[4], line 2\u001B[0m\n\u001B[1;32m      1\u001B[0m \u001B[38;5;28;01mtry\u001B[39;00m:\n\u001B[0;32m----> 2\u001B[0m     \u001B[43mbad\u001B[49m\u001B[43m(\u001B[49m\u001B[43m)\u001B[49m\n\u001B[1;32m      3\u001B[0m \u001B[38;5;28;01mexcept\u001B[39;00m \u001B[38;5;167;01mZeroDivisionError\u001B[39;00m \u001B[38;5;28;01mas\u001B[39;00m err:\n",
      "Cell \u001B[0;32mIn[1], line 1\u001B[0m, in \u001B[0;36m<lambda>\u001B[0;34m()\u001B[0m\n\u001B[0;32m----> 1\u001B[0m bad \u001B[38;5;241m=\u001B[39m \u001B[38;5;28;01mlambda\u001B[39;00m: \u001B[38;5;241;43m1\u001B[39;49m\u001B[38;5;241;43m/\u001B[39;49m\u001B[38;5;241;43m0\u001B[39;49m\n\u001B[1;32m      3\u001B[0m \u001B[38;5;28;01mtry\u001B[39;00m:\n",
      "\u001B[0;31mZeroDivisionError\u001B[0m: division by zero",
      "\nDuring handling of the above exception, another exception occurred:\n",
      "\u001B[0;31mAttributeError\u001B[0m                            Traceback (most recent call last)",
      "Cell \u001B[0;32mIn[4], line 4\u001B[0m\n\u001B[1;32m      2\u001B[0m     bad()\n\u001B[1;32m      3\u001B[0m \u001B[38;5;28;01mexcept\u001B[39;00m \u001B[38;5;167;01mZeroDivisionError\u001B[39;00m \u001B[38;5;28;01mas\u001B[39;00m err:\n\u001B[0;32m----> 4\u001B[0m     \u001B[38;5;28mprint\u001B[39m(\u001B[43merr\u001B[49m\u001B[38;5;241;43m.\u001B[39;49m\u001B[43m__notes__\u001B[49m)\n",
      "\u001B[0;31mAttributeError\u001B[0m: 'ZeroDivisionError' object has no attribute '__notes__'"
     ]
    }
   ],
   "execution_count": 4
  },
  {
   "metadata": {
    "ExecuteTime": {
     "end_time": "2024-05-25T19:34:24.145125Z",
     "start_time": "2024-05-25T19:34:24.101755Z"
    }
   },
   "cell_type": "code",
   "source": [
    "try:\n",
    "    bad()\n",
    "except ZeroDivisionError as err:\n",
    "    print(getattr(err, '__notes__', 'Нотаток немає'))\n",
    "    err.add_note('На нуль ділити не можна')\n",
    "    raise"
   ],
   "id": "29ef4e2a6875c1fe",
   "outputs": [
    {
     "name": "stdout",
     "output_type": "stream",
     "text": [
      "Нотаток немає\n"
     ]
    },
    {
     "ename": "ZeroDivisionError",
     "evalue": "division by zero",
     "output_type": "error",
     "traceback": [
      "\u001B[0;31m---------------------------------------------------------------------------\u001B[0m",
      "\u001B[0;31mZeroDivisionError\u001B[0m                         Traceback (most recent call last)",
      "Cell \u001B[0;32mIn[5], line 2\u001B[0m\n\u001B[1;32m      1\u001B[0m \u001B[38;5;28;01mtry\u001B[39;00m:\n\u001B[0;32m----> 2\u001B[0m     \u001B[43mbad\u001B[49m\u001B[43m(\u001B[49m\u001B[43m)\u001B[49m\n\u001B[1;32m      3\u001B[0m \u001B[38;5;28;01mexcept\u001B[39;00m \u001B[38;5;167;01mZeroDivisionError\u001B[39;00m \u001B[38;5;28;01mas\u001B[39;00m err:\n\u001B[1;32m      4\u001B[0m     \u001B[38;5;28mprint\u001B[39m(\u001B[38;5;28mgetattr\u001B[39m(err, \u001B[38;5;124m'\u001B[39m\u001B[38;5;124m__notes__\u001B[39m\u001B[38;5;124m'\u001B[39m, \u001B[38;5;124m'\u001B[39m\u001B[38;5;124mНотаток немає\u001B[39m\u001B[38;5;124m'\u001B[39m))\n",
      "Cell \u001B[0;32mIn[1], line 1\u001B[0m, in \u001B[0;36m<lambda>\u001B[0;34m()\u001B[0m\n\u001B[0;32m----> 1\u001B[0m bad \u001B[38;5;241m=\u001B[39m \u001B[38;5;28;01mlambda\u001B[39;00m: \u001B[38;5;241;43m1\u001B[39;49m\u001B[38;5;241;43m/\u001B[39;49m\u001B[38;5;241;43m0\u001B[39;49m\n\u001B[1;32m      3\u001B[0m \u001B[38;5;28;01mtry\u001B[39;00m:\n\u001B[1;32m      4\u001B[0m     bad()\n",
      "\u001B[0;31mZeroDivisionError\u001B[0m: division by zero",
      "\u001B[0mНа нуль ділити не можна"
     ]
    }
   ],
   "execution_count": 5
  }
 ],
 "metadata": {
  "kernelspec": {
   "display_name": "Python 3",
   "language": "python",
   "name": "python3"
  },
  "language_info": {
   "codemirror_mode": {
    "name": "ipython",
    "version": 2
   },
   "file_extension": ".py",
   "mimetype": "text/x-python",
   "name": "python",
   "nbconvert_exporter": "python",
   "pygments_lexer": "ipython2",
   "version": "2.7.6"
  }
 },
 "nbformat": 4,
 "nbformat_minor": 5
}

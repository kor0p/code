{
 "cells": [
  {
   "cell_type": "code",
   "id": "initial_id",
   "metadata": {
    "collapsed": true,
    "ExecuteTime": {
     "end_time": "2024-05-28T16:28:59.773454Z",
     "start_time": "2024-05-28T16:28:59.768054Z"
    }
   },
   "source": [
    "def check_bigger_10(data):\n",
    "    for item in data:\n",
    "        if item > 10:\n",
    "            print(f'Число {item} більше 10')\n",
    "            break\n",
    "    else:\n",
    "        print('Усі числа менше 10')"
   ],
   "outputs": [],
   "execution_count": 1
  },
  {
   "metadata": {
    "ExecuteTime": {
     "end_time": "2024-05-28T16:29:00.412218Z",
     "start_time": "2024-05-28T16:29:00.406262Z"
    }
   },
   "cell_type": "code",
   "source": "check_bigger_10([1, 25, 40, 6, 4])",
   "id": "86a33ae8cef6d5ff",
   "outputs": [
    {
     "name": "stdout",
     "output_type": "stream",
     "text": [
      "Число 25 більше 10\n"
     ]
    }
   ],
   "execution_count": 2
  },
  {
   "metadata": {
    "ExecuteTime": {
     "end_time": "2024-05-28T16:29:01.005101Z",
     "start_time": "2024-05-28T16:29:00.996298Z"
    }
   },
   "cell_type": "code",
   "source": "check_bigger_10([1, 2, 3, 4])",
   "id": "8067a4b533d87db6",
   "outputs": [
    {
     "name": "stdout",
     "output_type": "stream",
     "text": [
      "Усі числа менше 10\n"
     ]
    }
   ],
   "execution_count": 3
  },
  {
   "metadata": {
    "ExecuteTime": {
     "end_time": "2024-05-28T16:29:01.592565Z",
     "start_time": "2024-05-28T16:29:01.586302Z"
    }
   },
   "cell_type": "code",
   "source": "check_bigger_10([])",
   "id": "24d0b502dc7c3320",
   "outputs": [
    {
     "name": "stdout",
     "output_type": "stream",
     "text": [
      "Усі числа менше 10\n"
     ]
    }
   ],
   "execution_count": 4
  }
 ],
 "metadata": {
  "kernelspec": {
   "display_name": "Python 3",
   "language": "python",
   "name": "python3"
  },
  "language_info": {
   "codemirror_mode": {
    "name": "ipython",
    "version": 2
   },
   "file_extension": ".py",
   "mimetype": "text/x-python",
   "name": "python",
   "nbconvert_exporter": "python",
   "pygments_lexer": "ipython2",
   "version": "2.7.6"
  }
 },
 "nbformat": 4,
 "nbformat_minor": 5
}

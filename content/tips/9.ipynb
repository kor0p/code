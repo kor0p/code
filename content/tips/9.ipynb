{
 "cells": [
  {
   "cell_type": "code",
   "execution_count": 2,
   "id": "initial_id",
   "metadata": {
    "collapsed": true,
    "ExecuteTime": {
     "end_time": "2024-05-03T18:16:02.657619205Z",
     "start_time": "2024-05-03T18:16:02.614306993Z"
    }
   },
   "outputs": [
    {
     "data": {
      "text/plain": "<generator object <genexpr> at 0x7f3b4d78b1d0>"
     },
     "execution_count": 2,
     "metadata": {},
     "output_type": "execute_result"
    }
   ],
   "source": [
    "file = open('data/9.txt')\n",
    "data = (l for l in file)\n",
    "data = (f'[log] {l}' for l in data)\n",
    "data"
   ]
  },
  {
   "cell_type": "code",
   "execution_count": 3,
   "outputs": [
    {
     "name": "stdout",
     "output_type": "stream",
     "text": [
      "[log] Hello World\n",
      "\n",
      "[log] from Ukraine 🇺🇦\n"
     ]
    }
   ],
   "source": [
    "for line in data:\n",
    "    print(line)"
   ],
   "metadata": {
    "collapsed": false,
    "ExecuteTime": {
     "end_time": "2024-05-03T18:16:11.543177580Z",
     "start_time": "2024-05-03T18:16:11.528798043Z"
    }
   },
   "id": "fcf3935660555fcc"
  }
 ],
 "metadata": {
  "kernelspec": {
   "display_name": "Python 3",
   "language": "python",
   "name": "python3"
  },
  "language_info": {
   "codemirror_mode": {
    "name": "ipython",
    "version": 2
   },
   "file_extension": ".py",
   "mimetype": "text/x-python",
   "name": "python",
   "nbconvert_exporter": "python",
   "pygments_lexer": "ipython2",
   "version": "2.7.6"
  }
 },
 "nbformat": 4,
 "nbformat_minor": 5
}

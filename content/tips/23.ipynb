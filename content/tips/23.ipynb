{
 "cells": [
  {
   "cell_type": "code",
   "id": "initial_id",
   "metadata": {
    "collapsed": true,
    "ExecuteTime": {
     "end_time": "2024-05-19T12:00:54.538704Z",
     "start_time": "2024-05-19T12:00:54.532233Z"
    }
   },
   "source": [
    "def my_sum(iterable, start=0):\n",
    "    result = start\n",
    "    for item in iterable:\n",
    "        result += item\n",
    "    return result"
   ],
   "outputs": [],
   "execution_count": 1
  },
  {
   "metadata": {
    "ExecuteTime": {
     "end_time": "2024-05-19T12:01:09.538249Z",
     "start_time": "2024-05-19T12:01:09.520361Z"
    }
   },
   "cell_type": "code",
   "source": "my_sum([1, 2, 3, 4, 5])",
   "id": "e9d7d5de5040d171",
   "outputs": [
    {
     "data": {
      "text/plain": [
       "15"
      ]
     },
     "execution_count": 2,
     "metadata": {},
     "output_type": "execute_result"
    }
   ],
   "execution_count": 2
  },
  {
   "metadata": {
    "ExecuteTime": {
     "end_time": "2024-05-19T12:01:17.551269Z",
     "start_time": "2024-05-19T12:01:17.542405Z"
    }
   },
   "cell_type": "code",
   "source": "my_sum([1, 2, 3, 4, 5], start=10)",
   "id": "582d45b086d9c0e1",
   "outputs": [
    {
     "data": {
      "text/plain": [
       "25"
      ]
     },
     "execution_count": 3,
     "metadata": {},
     "output_type": "execute_result"
    }
   ],
   "execution_count": 3
  },
  {
   "metadata": {
    "ExecuteTime": {
     "end_time": "2024-05-19T12:01:24.493348Z",
     "start_time": "2024-05-19T12:01:24.483808Z"
    }
   },
   "cell_type": "code",
   "source": "my_sum([[1], [2, 3], [10]], start=[])",
   "id": "6311090efe89e683",
   "outputs": [
    {
     "data": {
      "text/plain": [
       "[1, 2, 3, 10]"
      ]
     },
     "execution_count": 4,
     "metadata": {},
     "output_type": "execute_result"
    }
   ],
   "execution_count": 4
  }
 ],
 "metadata": {
  "kernelspec": {
   "display_name": "Python 3",
   "language": "python",
   "name": "python3"
  },
  "language_info": {
   "codemirror_mode": {
    "name": "ipython",
    "version": 2
   },
   "file_extension": ".py",
   "mimetype": "text/x-python",
   "name": "python",
   "nbconvert_exporter": "python",
   "pygments_lexer": "ipython2",
   "version": "2.7.6"
  }
 },
 "nbformat": 4,
 "nbformat_minor": 5
}

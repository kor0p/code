{
 "cells": [
  {
   "metadata": {},
   "cell_type": "markdown",
   "source": "Простий спосіб заповнити словник початковими значеннями, чи не так?)",
   "id": "4a949fbaf064dc46"
  },
  {
   "metadata": {
    "ExecuteTime": {
     "end_time": "2024-05-18T13:49:53.897023Z",
     "start_time": "2024-05-18T13:49:53.884675Z"
    }
   },
   "cell_type": "code",
   "source": [
    "init_data = {i: 0 for i in range(5)}\n",
    "init_data"
   ],
   "id": "66bc405ad2f73945",
   "outputs": [
    {
     "data": {
      "text/plain": [
       "{0: 0, 1: 0, 2: 0, 3: 0, 4: 0}"
      ]
     },
     "execution_count": 1,
     "metadata": {},
     "output_type": "execute_result"
    }
   ],
   "execution_count": 1
  },
  {
   "metadata": {},
   "cell_type": "markdown",
   "source": "А якщо спробувати `.fromkeys()` ?)",
   "id": "9966b6d73a6954c0"
  },
  {
   "metadata": {
    "ExecuteTime": {
     "end_time": "2024-05-18T13:49:53.915576Z",
     "start_time": "2024-05-18T13:49:53.905897Z"
    }
   },
   "cell_type": "code",
   "source": [
    "init_data = dict.fromkeys(range(5), 0)\n",
    "init_data"
   ],
   "id": "4eee1dee00634c6d",
   "outputs": [
    {
     "data": {
      "text/plain": [
       "{0: 0, 1: 0, 2: 0, 3: 0, 4: 0}"
      ]
     },
     "execution_count": 2,
     "metadata": {},
     "output_type": "execute_result"
    }
   ],
   "execution_count": 2
  }
 ],
 "metadata": {
  "kernelspec": {
   "display_name": "Python 3",
   "language": "python",
   "name": "python3"
  },
  "language_info": {
   "codemirror_mode": {
    "name": "ipython",
    "version": 2
   },
   "file_extension": ".py",
   "mimetype": "text/x-python",
   "name": "python",
   "nbconvert_exporter": "python",
   "pygments_lexer": "ipython2",
   "version": "2.7.6"
  }
 },
 "nbformat": 4,
 "nbformat_minor": 5
}

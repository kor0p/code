{
 "cells": [
  {
   "cell_type": "markdown",
   "source": [
    "## Своя реалізація `any()`"
   ],
   "metadata": {
    "collapsed": false
   },
   "id": "bf19fb552d6a9bd7"
  },
  {
   "cell_type": "code",
   "execution_count": 1,
   "outputs": [],
   "source": [
    "def my_any(items):\n",
    "    for item in items:\n",
    "        if item:\n",
    "            return True\n",
    "    return False"
   ],
   "metadata": {
    "collapsed": true,
    "ExecuteTime": {
     "end_time": "2024-05-07T11:57:38.284426867Z",
     "start_time": "2024-05-07T11:57:38.283736992Z"
    }
   },
   "id": "initial_id"
  },
  {
   "cell_type": "code",
   "execution_count": 3,
   "outputs": [
    {
     "data": {
      "text/plain": "False"
     },
     "execution_count": 3,
     "metadata": {},
     "output_type": "execute_result"
    }
   ],
   "source": [
    "my_any([None, False, '', 0, {}, [], ()])"
   ],
   "metadata": {
    "collapsed": false,
    "ExecuteTime": {
     "end_time": "2024-05-07T11:57:57.005849876Z",
     "start_time": "2024-05-07T11:57:56.996568419Z"
    }
   },
   "id": "8ecc605a0c5b6eb3"
  },
  {
   "cell_type": "code",
   "execution_count": 5,
   "outputs": [
    {
     "data": {
      "text/plain": "True"
     },
     "execution_count": 5,
     "metadata": {},
     "output_type": "execute_result"
    }
   ],
   "source": [
    "my_any([0, 1, 0, 0])"
   ],
   "metadata": {
    "collapsed": false,
    "ExecuteTime": {
     "end_time": "2024-05-07T11:59:05.359711979Z",
     "start_time": "2024-05-07T11:59:05.314698327Z"
    }
   },
   "id": "69f96dcdf7d2b66e"
  },
  {
   "cell_type": "markdown",
   "source": [
    "### Якщо передати пустий список, обидві реалізації повернуть `False`"
   ],
   "metadata": {
    "collapsed": false
   },
   "id": "320ac383f5acfc09"
  },
  {
   "cell_type": "code",
   "execution_count": 6,
   "outputs": [
    {
     "data": {
      "text/plain": "False"
     },
     "execution_count": 6,
     "metadata": {},
     "output_type": "execute_result"
    }
   ],
   "source": [
    "my_any([])"
   ],
   "metadata": {
    "collapsed": false,
    "ExecuteTime": {
     "end_time": "2024-05-07T11:59:11.387469999Z",
     "start_time": "2024-05-07T11:59:11.344029833Z"
    }
   },
   "id": "e6f2e0771e7f0034"
  },
  {
   "cell_type": "code",
   "execution_count": 7,
   "outputs": [
    {
     "data": {
      "text/plain": "False"
     },
     "execution_count": 7,
     "metadata": {},
     "output_type": "execute_result"
    }
   ],
   "source": [
    "any([])"
   ],
   "metadata": {
    "collapsed": false,
    "ExecuteTime": {
     "end_time": "2024-05-07T11:59:15.888222065Z",
     "start_time": "2024-05-07T11:59:15.874519107Z"
    }
   },
   "id": "6f9847ce9b2f7594"
  }
 ],
 "metadata": {
  "kernelspec": {
   "display_name": "Python 3",
   "language": "python",
   "name": "python3"
  },
  "language_info": {
   "codemirror_mode": {
    "name": "ipython",
    "version": 2
   },
   "file_extension": ".py",
   "mimetype": "text/x-python",
   "name": "python",
   "nbconvert_exporter": "python",
   "pygments_lexer": "ipython2",
   "version": "2.7.6"
  }
 },
 "nbformat": 4,
 "nbformat_minor": 5
}

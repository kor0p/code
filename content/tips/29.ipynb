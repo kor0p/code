{
 "cells": [
  {
   "metadata": {},
   "cell_type": "markdown",
   "source": "Bad code version:",
   "id": "8c929455341e9600"
  },
  {
   "metadata": {
    "ExecuteTime": {
     "end_time": "2024-05-28T16:16:33.307399Z",
     "start_time": "2024-05-28T16:16:33.293471Z"
    }
   },
   "cell_type": "code",
   "source": [
    "data = [1, 25, 40, 6, 4]\n",
    "\n",
    "for item in data:\n",
    "    if item > 10:\n",
    "        data.remove(item)\n",
    "\n",
    "data"
   ],
   "id": "initial_id",
   "outputs": [
    {
     "data": {
      "text/plain": [
       "[1, 40, 6, 4]"
      ]
     },
     "execution_count": 1,
     "metadata": {},
     "output_type": "execute_result"
    }
   ],
   "execution_count": 1
  },
  {
   "metadata": {},
   "cell_type": "markdown",
   "source": "Clean code version:",
   "id": "3134d75e02db17bc"
  },
  {
   "metadata": {
    "ExecuteTime": {
     "end_time": "2024-05-28T16:16:34.785561Z",
     "start_time": "2024-05-28T16:16:34.773454Z"
    }
   },
   "cell_type": "code",
   "source": [
    "data = [1, 25, 40, 6, 4]\n",
    "\n",
    "for item in data[:]:\n",
    "    if item > 10:\n",
    "        data.remove(item)\n",
    "\n",
    "data"
   ],
   "id": "b7a814b7923022d7",
   "outputs": [
    {
     "data": {
      "text/plain": [
       "[1, 6, 4]"
      ]
     },
     "execution_count": 2,
     "metadata": {},
     "output_type": "execute_result"
    }
   ],
   "execution_count": 2
  }
 ],
 "metadata": {
  "kernelspec": {
   "display_name": "Python 3",
   "language": "python",
   "name": "python3"
  },
  "language_info": {
   "codemirror_mode": {
    "name": "ipython",
    "version": 2
   },
   "file_extension": ".py",
   "mimetype": "text/x-python",
   "name": "python",
   "nbconvert_exporter": "python",
   "pygments_lexer": "ipython2",
   "version": "2.7.6"
  }
 },
 "nbformat": 4,
 "nbformat_minor": 5
}

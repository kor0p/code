{
 "cells": [
  {
   "cell_type": "markdown",
   "id": "31ee8c1e7d383247",
   "metadata": {},
   "source": [
    "Як проітеруватись і мати також індекс? 🤔"
   ]
  },
  {
   "cell_type": "code",
   "id": "5fc01a6ffc403e6c",
   "metadata": {
    "ExecuteTime": {
     "end_time": "2024-05-16T20:01:44.395406Z",
     "start_time": "2024-05-16T20:01:44.388538Z"
    }
   },
   "source": [
    "text = 'Python просто | з Коропом'\n",
    "\n",
    "for idx in range(len(text)):\n",
    "    char = text[idx]\n",
    "    print(idx, char)"
   ],
   "outputs": [
    {
     "name": "stdout",
     "output_type": "stream",
     "text": [
      "0 P\n",
      "1 y\n",
      "2 t\n",
      "3 h\n",
      "4 o\n",
      "5 n\n",
      "6  \n",
      "7 п\n",
      "8 р\n",
      "9 о\n",
      "10 с\n",
      "11 т\n",
      "12 о\n",
      "13  \n",
      "14 |\n",
      "15  \n",
      "16 з\n",
      "17  \n",
      "18 К\n",
      "19 о\n",
      "20 р\n",
      "21 о\n",
      "22 п\n",
      "23 о\n",
      "24 м\n"
     ]
    }
   ],
   "execution_count": 4
  },
  {
   "cell_type": "markdown",
   "id": "a846ad38ddd32c00",
   "metadata": {},
   "source": [
    "А як щодо `enumerate`? 😎"
   ]
  },
  {
   "cell_type": "code",
   "id": "initial_id",
   "metadata": {
    "ExecuteTime": {
     "end_time": "2024-05-16T20:01:45.690878Z",
     "start_time": "2024-05-16T20:01:45.681850Z"
    }
   },
   "source": [
    "text = 'Python просто | з Коропом'\n",
    "\n",
    "for idx, char in enumerate(text):\n",
    "    print(idx, char)"
   ],
   "outputs": [
    {
     "name": "stdout",
     "output_type": "stream",
     "text": [
      "0 P\n",
      "1 y\n",
      "2 t\n",
      "3 h\n",
      "4 o\n",
      "5 n\n",
      "6  \n",
      "7 п\n",
      "8 р\n",
      "9 о\n",
      "10 с\n",
      "11 т\n",
      "12 о\n",
      "13  \n",
      "14 |\n",
      "15  \n",
      "16 з\n",
      "17  \n",
      "18 К\n",
      "19 о\n",
      "20 р\n",
      "21 о\n",
      "22 п\n",
      "23 о\n",
      "24 м\n"
     ]
    }
   ],
   "execution_count": 5
  },
  {
   "metadata": {},
   "cell_type": "code",
   "outputs": [],
   "execution_count": null,
   "source": "",
   "id": "eae10103930e04d0"
  }
 ],
 "metadata": {
  "kernelspec": {
   "display_name": "Python 3 (ipykernel)",
   "language": "python",
   "name": "python3"
  },
  "language_info": {
   "codemirror_mode": {
    "name": "ipython",
    "version": 3
   },
   "file_extension": ".py",
   "mimetype": "text/x-python",
   "name": "python",
   "nbconvert_exporter": "python",
   "pygments_lexer": "ipython3",
   "version": "3.12.3"
  }
 },
 "nbformat": 4,
 "nbformat_minor": 5
}

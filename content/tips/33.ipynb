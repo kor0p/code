{
 "cells": [
  {
   "metadata": {},
   "cell_type": "markdown",
   "source": "Перегляньте [csv-файл](https://kor0p.github.io/code/notebooks/index.html?path=tips/data/33.csv), який ми будемо зараз зчитувати",
   "id": "26cfd5714f2b9a14"
  },
  {
   "cell_type": "code",
   "id": "initial_id",
   "metadata": {
    "collapsed": true,
    "ExecuteTime": {
     "end_time": "2024-06-22T18:04:26.841099Z",
     "start_time": "2024-06-22T18:04:26.833178Z"
    }
   },
   "source": [
    "import csv\n",
    "\n",
    "with open('data/33.csv', 'r') as f:\n",
    "    for row in csv.DictReader(f):\n",
    "        print(row)"
   ],
   "outputs": [
    {
     "name": "stdout",
     "output_type": "stream",
     "text": [
      "{'name': 'Viktor', 'age': '23', 'hobbies': 'Console/board games, pets'}\n",
      "{'name': 'Petro', 'age': '40', 'hobbies': 'Swimming, blogging'}\n",
      "{'name': 'Julian', 'age': '31', 'hobbies': 'Camping, painting'}\n"
     ]
    }
   ],
   "execution_count": 3
  },
  {
   "metadata": {
    "ExecuteTime": {
     "end_time": "2024-06-22T18:06:01.125426Z",
     "start_time": "2024-06-22T18:06:01.115111Z"
    }
   },
   "cell_type": "code",
   "source": [
    "data = [\n",
    "    {'name': 'Julian', 'age': '31', 'hobbies': 'Camping, painting'},\n",
    "    {'name': 'Viktor', 'age': '23', 'hobbies': 'Console/board games, pets'},\n",
    "    {'name': 'Petro', 'age': '40', 'hobbies': 'Swimming, blogging'},\n",
    "]\n",
    "\n",
    "with open('data/33.csv', 'w') as f:\n",
    "    writer = csv.DictWriter(f, ['name', 'age', 'hobbies'])\n",
    "\n",
    "    writer.writeheader()\n",
    "    for row in data:\n",
    "        writer.writerow(row)"
   ],
   "id": "6fbe56eb31da8a54",
   "outputs": [],
   "execution_count": 5
  },
  {
   "metadata": {},
   "cell_type": "markdown",
   "source": "Знову відкрийте [csv-файл](https://kor0p.github.io/code/notebooks/index.html?path=tips/data/33.csv) і побачите зміни)",
   "id": "6b63f76e182fa083"
  }
 ],
 "metadata": {
  "kernelspec": {
   "display_name": "Python 3",
   "language": "python",
   "name": "python3"
  },
  "language_info": {
   "codemirror_mode": {
    "name": "ipython",
    "version": 2
   },
   "file_extension": ".py",
   "mimetype": "text/x-python",
   "name": "python",
   "nbconvert_exporter": "python",
   "pygments_lexer": "ipython2",
   "version": "2.7.6"
  }
 },
 "nbformat": 4,
 "nbformat_minor": 5
}

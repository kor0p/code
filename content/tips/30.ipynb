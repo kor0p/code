{
 "cells": [
  {
   "metadata": {},
   "cell_type": "markdown",
   "source": "Old way",
   "id": "d67c21f59bde34fe"
  },
  {
   "metadata": {
    "ExecuteTime": {
     "end_time": "2024-06-04T19:55:07.702630Z",
     "start_time": "2024-06-04T19:55:07.692189Z"
    }
   },
   "cell_type": "code",
   "source": [
    "with open('data.txt', 'w') as file:\n",
    "    file.write('Пайтон це просто')\n",
    "\n",
    "with open('data.txt', 'r') as file:\n",
    "    print(file.read())"
   ],
   "id": "5ebdddb14d63a460",
   "outputs": [
    {
     "name": "stdout",
     "output_type": "stream",
     "text": [
      "Пайтон це просто\n"
     ]
    }
   ],
   "execution_count": 1
  },
  {
   "metadata": {},
   "cell_type": "markdown",
   "source": "✨ New way ✨",
   "id": "5a3786909827dbde"
  },
  {
   "metadata": {
    "ExecuteTime": {
     "end_time": "2024-06-04T19:55:09.588128Z",
     "start_time": "2024-06-04T19:55:09.582181Z"
    }
   },
   "cell_type": "code",
   "source": [
    "from pathlib import Path\n",
    "file = Path('data.txt')\n",
    "\n",
    "file.write_text('Пайтон це просто')\n",
    "\n",
    "print(file.read_text())"
   ],
   "id": "2a218ff8f28080d7",
   "outputs": [
    {
     "name": "stdout",
     "output_type": "stream",
     "text": [
      "Пайтон це просто\n"
     ]
    }
   ],
   "execution_count": 2
  }
 ],
 "metadata": {
  "kernelspec": {
   "display_name": "Python 3",
   "language": "python",
   "name": "python3"
  },
  "language_info": {
   "codemirror_mode": {
    "name": "ipython",
    "version": 2
   },
   "file_extension": ".py",
   "mimetype": "text/x-python",
   "name": "python",
   "nbconvert_exporter": "python",
   "pygments_lexer": "ipython2",
   "version": "2.7.6"
  }
 },
 "nbformat": 4,
 "nbformat_minor": 5
}

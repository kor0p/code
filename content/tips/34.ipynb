{
 "cells": [
  {
   "cell_type": "code",
   "id": "initial_id",
   "metadata": {
    "ExecuteTime": {
     "end_time": "2024-07-07T19:42:24.738547Z",
     "start_time": "2024-07-07T19:42:24.725924Z"
    }
   },
   "source": [
    "from modules import ex_34\n",
    "\n",
    "ex_34.some_function()\n",
    "ex_34.some_attribute"
   ],
   "outputs": [
    {
     "name": "stdout",
     "output_type": "stream",
     "text": [
      "<module 'modules.ex_34'>\n"
     ]
    },
    {
     "data": {
      "text/plain": [
       "0"
      ]
     },
     "execution_count": 1,
     "metadata": {},
     "output_type": "execute_result"
    }
   ],
   "execution_count": 1
  },
  {
   "metadata": {},
   "cell_type": "markdown",
   "source": "Перегляньте код [модулю ex_34](https://kor0p.github.io/code/notebooks/index.html?path=tips/modules/ex_34.py)",
   "id": "d668b797fdee9475"
  },
  {
   "metadata": {},
   "cell_type": "markdown",
   "source": "Зауважте, що Пайтон ігнорує усі інші атрибути, які насправді є у модулі, а бере до уваги лише те, що існує у класі `ThisModule`",
   "id": "a146c17764e7abfb"
  }
 ],
 "metadata": {
  "kernelspec": {
   "display_name": "Python 3 (ipykernel)",
   "language": "python",
   "name": "python3"
  },
  "language_info": {
   "codemirror_mode": {
    "name": "ipython",
    "version": 3
   },
   "file_extension": ".py",
   "mimetype": "text/x-python",
   "name": "python",
   "nbconvert_exporter": "python",
   "pygments_lexer": "ipython3",
   "version": "3.12.3"
  }
 },
 "nbformat": 4,
 "nbformat_minor": 5
}

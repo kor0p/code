{
 "cells": [
  {
   "metadata": {
    "ExecuteTime": {
     "end_time": "2024-06-17T20:04:13.405301Z",
     "start_time": "2024-06-17T20:04:13.020561Z"
    }
   },
   "cell_type": "code",
   "source": [
    "def raise_exception_with_name(name, message):\n",
    "    class BetterException(Exception):\n",
    "        pass\n",
    "\n",
    "    BetterException.__name__ = name\n",
    "    raise BetterException(message)\n",
    "\n",
    "raise_exception_with_name('TestError', 'this is not correct')"
   ],
   "id": "3947034350923260",
   "outputs": [
    {
     "ename": "TestError",
     "evalue": "this is not correct",
     "output_type": "error",
     "traceback": [
      "\u001B[0;31m---------------------------------------------------------------------------\u001B[0m",
      "\u001B[0;31mTestError\u001B[0m                                 Traceback (most recent call last)",
      "Cell \u001B[0;32mIn[1], line 8\u001B[0m\n\u001B[1;32m      5\u001B[0m     BetterException\u001B[38;5;241m.\u001B[39m\u001B[38;5;18m__name__\u001B[39m \u001B[38;5;241m=\u001B[39m name\n\u001B[1;32m      6\u001B[0m     \u001B[38;5;28;01mraise\u001B[39;00m BetterException(message)\n\u001B[0;32m----> 8\u001B[0m \u001B[43mraise_exception_with_name\u001B[49m\u001B[43m(\u001B[49m\u001B[38;5;124;43m'\u001B[39;49m\u001B[38;5;124;43mTestError\u001B[39;49m\u001B[38;5;124;43m'\u001B[39;49m\u001B[43m,\u001B[49m\u001B[43m \u001B[49m\u001B[38;5;124;43m'\u001B[39;49m\u001B[38;5;124;43mthis is not correct\u001B[39;49m\u001B[38;5;124;43m'\u001B[39;49m\u001B[43m)\u001B[49m\n",
      "Cell \u001B[0;32mIn[1], line 6\u001B[0m, in \u001B[0;36mraise_exception_with_name\u001B[0;34m(name, message)\u001B[0m\n\u001B[1;32m      3\u001B[0m     \u001B[38;5;28;01mpass\u001B[39;00m\n\u001B[1;32m      5\u001B[0m BetterException\u001B[38;5;241m.\u001B[39m\u001B[38;5;18m__name__\u001B[39m \u001B[38;5;241m=\u001B[39m name\n\u001B[0;32m----> 6\u001B[0m \u001B[38;5;28;01mraise\u001B[39;00m BetterException(message)\n",
      "\u001B[0;31mTestError\u001B[0m: this is not correct"
     ]
    }
   ],
   "execution_count": 1
  },
  {
   "metadata": {
    "ExecuteTime": {
     "end_time": "2024-06-17T20:04:14.300358Z",
     "start_time": "2024-06-17T20:04:14.292518Z"
    }
   },
   "cell_type": "code",
   "source": [
    "def make_sentinel(name='_MISSING'):\n",
    "    class Sentinel:\n",
    "        def __init__(self):\n",
    "            self.name = name\n",
    "\n",
    "        def __repr__(self):\n",
    "            return f'<{self.name}>'\n",
    "\n",
    "        def __bool__(self):\n",
    "            return False\n",
    "\n",
    "    return Sentinel()\n",
    "\n",
    "\n",
    "MISSING = make_sentinel()"
   ],
   "id": "56ec740a884cf1a8",
   "outputs": [],
   "execution_count": 2
  },
  {
   "metadata": {
    "ExecuteTime": {
     "end_time": "2024-06-17T20:04:14.985692Z",
     "start_time": "2024-06-17T20:04:14.970708Z"
    }
   },
   "cell_type": "code",
   "source": [
    "def function(data=MISSING):\n",
    "    return print(data is MISSING)\n",
    "\n",
    "function(None)\n",
    "function(0)\n",
    "function('')\n",
    "function(MISSING)\n",
    "MISSING"
   ],
   "id": "25589fa589c79f2",
   "outputs": [
    {
     "name": "stdout",
     "output_type": "stream",
     "text": [
      "False\n",
      "False\n",
      "False\n",
      "True\n"
     ]
    },
    {
     "data": {
      "text/plain": [
       "<_MISSING>"
      ]
     },
     "execution_count": 3,
     "metadata": {},
     "output_type": "execute_result"
    }
   ],
   "execution_count": 3
  },
  {
   "metadata": {
    "ExecuteTime": {
     "end_time": "2024-06-17T20:04:15.848206Z",
     "start_time": "2024-06-17T20:04:15.838915Z"
    }
   },
   "cell_type": "code",
   "source": "make_sentinel('X') == make_sentinel('X')",
   "id": "c8b514ef30ab58c1",
   "outputs": [
    {
     "data": {
      "text/plain": [
       "False"
      ]
     },
     "execution_count": 4,
     "metadata": {},
     "output_type": "execute_result"
    }
   ],
   "execution_count": 4
  }
 ],
 "metadata": {
  "kernelspec": {
   "display_name": "Python 3",
   "language": "python",
   "name": "python3"
  },
  "language_info": {
   "codemirror_mode": {
    "name": "ipython",
    "version": 2
   },
   "file_extension": ".py",
   "mimetype": "text/x-python",
   "name": "python",
   "nbconvert_exporter": "python",
   "pygments_lexer": "ipython2",
   "version": "2.7.6"
  }
 },
 "nbformat": 4,
 "nbformat_minor": 5
}

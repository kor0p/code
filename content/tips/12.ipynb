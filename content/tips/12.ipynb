{
 "cells": [
  {
   "cell_type": "markdown",
   "source": [
    "## `any()` - Чи є *хоча б одне* істинне/\"не пусте\" значення"
   ],
   "metadata": {
    "collapsed": false
   },
   "id": "e4b59eb65c4a669c"
  },
  {
   "cell_type": "code",
   "execution_count": 6,
   "outputs": [
    {
     "data": {
      "text/plain": "False"
     },
     "execution_count": 6,
     "metadata": {},
     "output_type": "execute_result"
    }
   ],
   "source": [
    "any([None, False, '', 0, {}, [], ()])"
   ],
   "metadata": {
    "collapsed": true,
    "ExecuteTime": {
     "end_time": "2024-05-07T10:11:33.010334354Z",
     "start_time": "2024-05-07T10:11:33.002368550Z"
    }
   },
   "id": "initial_id"
  },
  {
   "cell_type": "code",
   "execution_count": 8,
   "outputs": [
    {
     "data": {
      "text/plain": "True"
     },
     "execution_count": 8,
     "metadata": {},
     "output_type": "execute_result"
    }
   ],
   "source": [
    "any([0, 1, 0, 0])"
   ],
   "metadata": {
    "collapsed": false,
    "ExecuteTime": {
     "end_time": "2024-05-07T10:11:54.135490223Z",
     "start_time": "2024-05-07T10:11:54.121880207Z"
    }
   },
   "id": "5ac7b5cb498f4c47"
  },
  {
   "cell_type": "markdown",
   "source": [
    "## `all()` - Чи *усі* значення - істинні/\"не пусті\""
   ],
   "metadata": {
    "collapsed": false
   },
   "id": "b0ce3c8f09688370"
  },
  {
   "cell_type": "code",
   "execution_count": 9,
   "outputs": [
    {
     "data": {
      "text/plain": "True"
     },
     "execution_count": 9,
     "metadata": {},
     "output_type": "execute_result"
    }
   ],
   "source": [
    "all([True, 'a', 1, {'x': 0}, [0], (0,)])"
   ],
   "metadata": {
    "collapsed": false,
    "ExecuteTime": {
     "end_time": "2024-05-07T10:15:08.551553685Z",
     "start_time": "2024-05-07T10:15:08.506499407Z"
    }
   },
   "id": "52612d9a7760f5e0"
  },
  {
   "cell_type": "code",
   "execution_count": 10,
   "outputs": [
    {
     "data": {
      "text/plain": "False"
     },
     "execution_count": 10,
     "metadata": {},
     "output_type": "execute_result"
    }
   ],
   "source": [
    "all([1, 0, 1, 1])"
   ],
   "metadata": {
    "collapsed": false,
    "ExecuteTime": {
     "end_time": "2024-05-07T10:15:31.379638970Z",
     "start_time": "2024-05-07T10:15:31.367078634Z"
    }
   },
   "id": "9e002c5aab432ad0"
  }
 ],
 "metadata": {
  "kernelspec": {
   "display_name": "Python 3",
   "language": "python",
   "name": "python3"
  },
  "language_info": {
   "codemirror_mode": {
    "name": "ipython",
    "version": 2
   },
   "file_extension": ".py",
   "mimetype": "text/x-python",
   "name": "python",
   "nbconvert_exporter": "python",
   "pygments_lexer": "ipython2",
   "version": "2.7.6"
  }
 },
 "nbformat": 4,
 "nbformat_minor": 5
}

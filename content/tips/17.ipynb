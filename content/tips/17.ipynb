{
 "cells": [
  {
   "cell_type": "markdown",
   "source": [
    "Bad code version:"
   ],
   "metadata": {
    "collapsed": false
   },
   "id": "5b76327a410cbd72"
  },
  {
   "cell_type": "code",
   "source": [
    "class Store:\n",
    "    data = []\n",
    "\n",
    "    def __init__(self, line):\n",
    "        self.data.append(line)"
   ],
   "metadata": {
    "collapsed": true,
    "ExecuteTime": {
     "end_time": "2024-05-13T18:51:04.177892Z",
     "start_time": "2024-05-13T18:51:04.170490Z"
    }
   },
   "id": "initial_id",
   "outputs": [],
   "execution_count": 3
  },
  {
   "cell_type": "code",
   "source": [
    "s1 = Store('Hi')\n",
    "s1.data"
   ],
   "metadata": {
    "collapsed": false,
    "ExecuteTime": {
     "end_time": "2024-05-13T18:51:04.279853Z",
     "start_time": "2024-05-13T18:51:04.256624Z"
    }
   },
   "id": "a2a0f33f95658733",
   "outputs": [
    {
     "data": {
      "text/plain": [
       "['Hi']"
      ]
     },
     "execution_count": 4,
     "metadata": {},
     "output_type": "execute_result"
    }
   ],
   "execution_count": 4
  },
  {
   "cell_type": "code",
   "source": [
    "s2 = Store('Viktor')\n",
    "s2.data"
   ],
   "metadata": {
    "collapsed": false,
    "ExecuteTime": {
     "end_time": "2024-05-13T18:51:04.331041Z",
     "start_time": "2024-05-13T18:51:04.320604Z"
    }
   },
   "id": "562cbded070f86ad",
   "outputs": [
    {
     "data": {
      "text/plain": [
       "['Hi', 'Viktor']"
      ]
     },
     "execution_count": 5,
     "metadata": {},
     "output_type": "execute_result"
    }
   ],
   "execution_count": 5
  },
  {
   "cell_type": "markdown",
   "source": [
    "Clean code version:"
   ],
   "metadata": {
    "collapsed": false
   },
   "id": "3b08fd7017014b06"
  },
  {
   "cell_type": "code",
   "source": [
    "class StoreClean:\n",
    "    data: list\n",
    "\n",
    "    def __init__(self, line):\n",
    "        self.data = [line]"
   ],
   "metadata": {
    "collapsed": false,
    "ExecuteTime": {
     "end_time": "2024-05-13T18:51:04.447507Z",
     "start_time": "2024-05-13T18:51:04.437969Z"
    }
   },
   "id": "d9b7411a80e84f09",
   "outputs": [],
   "execution_count": 6
  },
  {
   "cell_type": "code",
   "source": [
    "s3 = StoreClean('Hi')\n",
    "s3.data"
   ],
   "metadata": {
    "collapsed": false,
    "ExecuteTime": {
     "end_time": "2024-05-13T18:51:04.571922Z",
     "start_time": "2024-05-13T18:51:04.559947Z"
    }
   },
   "id": "dfcf93c4f92f370f",
   "outputs": [
    {
     "data": {
      "text/plain": [
       "['Hi']"
      ]
     },
     "execution_count": 7,
     "metadata": {},
     "output_type": "execute_result"
    }
   ],
   "execution_count": 7
  },
  {
   "cell_type": "code",
   "source": [
    "s4 = StoreClean('Viktor')\n",
    "s4.data"
   ],
   "metadata": {
    "collapsed": false,
    "ExecuteTime": {
     "end_time": "2024-05-13T18:51:04.762871Z",
     "start_time": "2024-05-13T18:51:04.753388Z"
    }
   },
   "id": "7e99e3bb5dd981f7",
   "outputs": [
    {
     "data": {
      "text/plain": [
       "['Viktor']"
      ]
     },
     "execution_count": 8,
     "metadata": {},
     "output_type": "execute_result"
    }
   ],
   "execution_count": 8
  }
 ],
 "metadata": {
  "kernelspec": {
   "display_name": "Python 3",
   "language": "python",
   "name": "python3"
  },
  "language_info": {
   "codemirror_mode": {
    "name": "ipython",
    "version": 2
   },
   "file_extension": ".py",
   "mimetype": "text/x-python",
   "name": "python",
   "nbconvert_exporter": "python",
   "pygments_lexer": "ipython2",
   "version": "2.7.6"
  }
 },
 "nbformat": 4,
 "nbformat_minor": 5
}

{
 "cells": [
  {
   "cell_type": "markdown",
   "source": [
    "## Bad code version:"
   ],
   "metadata": {
    "collapsed": false
   },
   "id": "b3329cf3d905430a"
  },
  {
   "cell_type": "code",
   "execution_count": 9,
   "outputs": [],
   "source": [
    "def push(el, data=[]):\n",
    "    data.append(el)\n",
    "    return data"
   ],
   "metadata": {
    "collapsed": true,
    "ExecuteTime": {
     "end_time": "2024-05-06T17:50:55.171663458Z",
     "start_time": "2024-05-06T17:50:55.122633149Z"
    }
   },
   "id": "initial_id"
  },
  {
   "cell_type": "code",
   "execution_count": 10,
   "outputs": [
    {
     "data": {
      "text/plain": "[1]"
     },
     "execution_count": 10,
     "metadata": {},
     "output_type": "execute_result"
    }
   ],
   "source": [
    "push(1)"
   ],
   "metadata": {
    "collapsed": false,
    "ExecuteTime": {
     "end_time": "2024-05-06T17:50:55.195389481Z",
     "start_time": "2024-05-06T17:50:55.172257704Z"
    }
   },
   "id": "851697bc82416b3e"
  },
  {
   "cell_type": "code",
   "execution_count": 11,
   "outputs": [
    {
     "data": {
      "text/plain": "[2]"
     },
     "execution_count": 11,
     "metadata": {},
     "output_type": "execute_result"
    }
   ],
   "source": [
    "push(2, [])"
   ],
   "metadata": {
    "collapsed": false,
    "ExecuteTime": {
     "end_time": "2024-05-06T17:50:55.245081213Z",
     "start_time": "2024-05-06T17:50:55.180909055Z"
    }
   },
   "id": "12ccfb0ffbb4343a"
  },
  {
   "cell_type": "code",
   "execution_count": 12,
   "outputs": [
    {
     "data": {
      "text/plain": "[1, 3]"
     },
     "execution_count": 12,
     "metadata": {},
     "output_type": "execute_result"
    }
   ],
   "source": [
    "push(3)"
   ],
   "metadata": {
    "collapsed": false,
    "ExecuteTime": {
     "end_time": "2024-05-06T17:50:55.290288017Z",
     "start_time": "2024-05-06T17:50:55.197621500Z"
    }
   },
   "id": "d30d6b3017670d4f"
  },
  {
   "cell_type": "markdown",
   "source": [
    "## Clean code version:"
   ],
   "metadata": {
    "collapsed": false
   },
   "id": "7bee9fb60444dc11"
  },
  {
   "cell_type": "code",
   "execution_count": 13,
   "outputs": [],
   "source": [
    "def push_clean(el, data=None):\n",
    "    if data is None:\n",
    "        data = []\n",
    "    data.append(el)\n",
    "    return data"
   ],
   "metadata": {
    "collapsed": false,
    "ExecuteTime": {
     "end_time": "2024-05-06T17:50:55.290990819Z",
     "start_time": "2024-05-06T17:50:55.239997942Z"
    }
   },
   "id": "1b9270de3d01f306"
  },
  {
   "cell_type": "code",
   "execution_count": 14,
   "outputs": [
    {
     "data": {
      "text/plain": "[1]"
     },
     "execution_count": 14,
     "metadata": {},
     "output_type": "execute_result"
    }
   ],
   "source": [
    "push_clean(1)"
   ],
   "metadata": {
    "collapsed": false,
    "ExecuteTime": {
     "end_time": "2024-05-06T17:50:55.367938713Z",
     "start_time": "2024-05-06T17:50:55.251769385Z"
    }
   },
   "id": "7be4621d927a18a9"
  },
  {
   "cell_type": "code",
   "execution_count": 15,
   "outputs": [
    {
     "data": {
      "text/plain": "[2]"
     },
     "execution_count": 15,
     "metadata": {},
     "output_type": "execute_result"
    }
   ],
   "source": [
    "push_clean(2, [])"
   ],
   "metadata": {
    "collapsed": false,
    "ExecuteTime": {
     "end_time": "2024-05-06T17:50:55.380906834Z",
     "start_time": "2024-05-06T17:50:55.300607740Z"
    }
   },
   "id": "2f82534d3c6aaa6"
  },
  {
   "cell_type": "code",
   "execution_count": 16,
   "outputs": [
    {
     "data": {
      "text/plain": "[3]"
     },
     "execution_count": 16,
     "metadata": {},
     "output_type": "execute_result"
    }
   ],
   "source": [
    "push_clean(3)"
   ],
   "metadata": {
    "collapsed": false,
    "ExecuteTime": {
     "end_time": "2024-05-06T17:50:55.410746441Z",
     "start_time": "2024-05-06T17:50:55.376173435Z"
    }
   },
   "id": "255c52da729e1cb9"
  }
 ],
 "metadata": {
  "kernelspec": {
   "display_name": "Python 3",
   "language": "python",
   "name": "python3"
  },
  "language_info": {
   "codemirror_mode": {
    "name": "ipython",
    "version": 2
   },
   "file_extension": ".py",
   "mimetype": "text/x-python",
   "name": "python",
   "nbconvert_exporter": "python",
   "pygments_lexer": "ipython2",
   "version": "2.7.6"
  }
 },
 "nbformat": 4,
 "nbformat_minor": 5
}

{
 "cells": [
  {
   "metadata": {},
   "cell_type": "markdown",
   "source": "`sum` — дуже проста функція у Пайтоні 🤔",
   "id": "390f27ba7c675ea9"
  },
  {
   "metadata": {
    "ExecuteTime": {
     "end_time": "2024-05-19T11:51:31.157349Z",
     "start_time": "2024-05-19T11:51:31.142348Z"
    }
   },
   "cell_type": "code",
   "source": "sum([1, 2, 3, 4, 5])",
   "id": "initial_id",
   "outputs": [
    {
     "data": {
      "text/plain": [
       "15"
      ]
     },
     "execution_count": 1,
     "metadata": {},
     "output_type": "execute_result"
    }
   ],
   "execution_count": 1
  },
  {
   "metadata": {},
   "cell_type": "markdown",
   "source": "І дуже зручна 🔥",
   "id": "9d13eac21d006558"
  },
  {
   "metadata": {
    "ExecuteTime": {
     "end_time": "2024-05-19T11:51:31.168855Z",
     "start_time": "2024-05-19T11:51:31.161072Z"
    }
   },
   "cell_type": "code",
   "source": "sum([1, 2, 3, 4, 5], start=10)",
   "id": "2709bf96c0a7b0a6",
   "outputs": [
    {
     "data": {
      "text/plain": [
       "25"
      ]
     },
     "execution_count": 2,
     "metadata": {},
     "output_type": "execute_result"
    }
   ],
   "execution_count": 2
  },
  {
   "metadata": {},
   "cell_type": "markdown",
   "source": "І дуже потужна 😎",
   "id": "7a994d4c2551adcf"
  },
  {
   "metadata": {
    "ExecuteTime": {
     "end_time": "2024-05-19T11:51:31.179374Z",
     "start_time": "2024-05-19T11:51:31.171880Z"
    }
   },
   "cell_type": "code",
   "source": "sum([[1], [2, 3], [10]], start=[])",
   "id": "7fa485f43cf8e94",
   "outputs": [
    {
     "data": {
      "text/plain": [
       "[1, 2, 3, 10]"
      ]
     },
     "execution_count": 3,
     "metadata": {},
     "output_type": "execute_result"
    }
   ],
   "execution_count": 3
  }
 ],
 "metadata": {
  "kernelspec": {
   "display_name": "Python 3",
   "language": "python",
   "name": "python3"
  },
  "language_info": {
   "codemirror_mode": {
    "name": "ipython",
    "version": 2
   },
   "file_extension": ".py",
   "mimetype": "text/x-python",
   "name": "python",
   "nbconvert_exporter": "python",
   "pygments_lexer": "ipython2",
   "version": "2.7.6"
  }
 },
 "nbformat": 4,
 "nbformat_minor": 5
}

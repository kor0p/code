{
 "cells": [
  {
   "cell_type": "code",
   "id": "initial_id",
   "metadata": {
    "collapsed": true,
    "ExecuteTime": {
     "end_time": "2024-06-11T20:23:03.388293Z",
     "start_time": "2024-06-11T20:23:03.380787Z"
    }
   },
   "source": [
    "callbacks = []\n",
    "\n",
    "for number in range(3):\n",
    "    callbacks.append(lambda: print(number))\n",
    "\n",
    "for callback in callbacks:\n",
    "    callback()"
   ],
   "outputs": [
    {
     "name": "stdout",
     "output_type": "stream",
     "text": [
      "2\n",
      "2\n",
      "2\n"
     ]
    }
   ],
   "execution_count": 7
  },
  {
   "metadata": {
    "ExecuteTime": {
     "end_time": "2024-06-11T20:23:09.793103Z",
     "start_time": "2024-06-11T20:23:09.786130Z"
    }
   },
   "cell_type": "code",
   "source": [
    "from functools import partial\n",
    "\n",
    "callbacks = []\n",
    "\n",
    "for number in range(3):\n",
    "    callbacks.append(partial(print, number))\n",
    "\n",
    "for callback in callbacks:\n",
    "    callback()"
   ],
   "id": "8729482c2b7e2393",
   "outputs": [
    {
     "name": "stdout",
     "output_type": "stream",
     "text": [
      "0\n",
      "1\n",
      "2\n"
     ]
    }
   ],
   "execution_count": 8
  }
 ],
 "metadata": {
  "kernelspec": {
   "display_name": "Python 3",
   "language": "python",
   "name": "python3"
  },
  "language_info": {
   "codemirror_mode": {
    "name": "ipython",
    "version": 2
   },
   "file_extension": ".py",
   "mimetype": "text/x-python",
   "name": "python",
   "nbconvert_exporter": "python",
   "pygments_lexer": "ipython2",
   "version": "2.7.6"
  }
 },
 "nbformat": 4,
 "nbformat_minor": 5
}

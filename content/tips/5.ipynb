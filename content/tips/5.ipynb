{
 "metadata": {
  "kernelspec": {
   "name": "python3",
   "language": "python",
   "display_name": "Python 3 (ipykernel)"
  },
  "language_info": {
   "codemirror_mode": {
    "name": "python",
    "version": 3
   },
   "file_extension": ".py",
   "mimetype": "text/x-python",
   "name": "python",
   "nbconvert_exporter": "python",
   "pygments_lexer": "ipython3",
   "version": "3.8"
  }
 },
 "nbformat_minor": 4,
 "nbformat": 4,
 "cells": [
  {
   "cell_type": "code",
   "source": [
    "data = {'x': 10}\n",
    "\n",
    "x = data['x']\n",
    "print(data.pop('x'))\n",
    "\n",
    "if 'y' in data:\n",
    "    data.pop('y')\n",
    "\n",
    "data"
   ],
   "metadata": {
    "trusted": true,
    "ExecuteTime": {
     "end_time": "2024-04-29T19:55:55.616911228Z",
     "start_time": "2024-04-29T19:55:55.615536720Z"
    }
   },
   "outputs": [
    {
     "name": "stdout",
     "output_type": "stream",
     "text": [
      "10\n"
     ]
    },
    {
     "data": {
      "text/plain": "{}"
     },
     "execution_count": 1,
     "metadata": {},
     "output_type": "execute_result"
    }
   ],
   "execution_count": 1
  },
  {
   "cell_type": "code",
   "source": [
    "data = {'x': 10}\n",
    "\n",
    "x = data.pop('x')\n",
    "print(x)\n",
    "\n",
    "print(data.pop('y', None))\n",
    "\n",
    "data"
   ],
   "metadata": {
    "trusted": true,
    "ExecuteTime": {
     "end_time": "2024-04-29T19:56:00.101046796Z",
     "start_time": "2024-04-29T19:56:00.085463958Z"
    }
   },
   "outputs": [
    {
     "name": "stdout",
     "output_type": "stream",
     "text": [
      "10\n",
      "None\n"
     ]
    },
    {
     "data": {
      "text/plain": "{}"
     },
     "execution_count": 2,
     "metadata": {},
     "output_type": "execute_result"
    }
   ],
   "execution_count": 2
  }
 ]
}

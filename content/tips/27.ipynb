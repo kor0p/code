{
 "cells": [
  {
   "cell_type": "code",
   "id": "initial_id",
   "metadata": {
    "collapsed": true,
    "ExecuteTime": {
     "end_time": "2024-05-27T16:28:25.371115Z",
     "start_time": "2024-05-27T16:28:25.364373Z"
    }
   },
   "source": [
    "def do_stuff(n):\n",
    "    try:\n",
    "        return 1/n\n",
    "    except:\n",
    "        print('Тут проблемка 👀')\n",
    "    finally:\n",
    "        print('Виконання завершено')"
   ],
   "outputs": [],
   "execution_count": 1
  },
  {
   "metadata": {
    "ExecuteTime": {
     "end_time": "2024-05-27T16:28:25.389943Z",
     "start_time": "2024-05-27T16:28:25.383501Z"
    }
   },
   "cell_type": "code",
   "source": "do_stuff(0)",
   "id": "863df556062b2618",
   "outputs": [
    {
     "name": "stdout",
     "output_type": "stream",
     "text": [
      "Тут проблемка 👀\n",
      "Виконання завершено\n"
     ]
    }
   ],
   "execution_count": 2
  },
  {
   "metadata": {
    "ExecuteTime": {
     "end_time": "2024-05-27T16:28:25.407652Z",
     "start_time": "2024-05-27T16:28:25.392853Z"
    }
   },
   "cell_type": "code",
   "source": "do_stuff(2)",
   "id": "c644ab27777d75a6",
   "outputs": [
    {
     "name": "stdout",
     "output_type": "stream",
     "text": [
      "Виконання завершено\n"
     ]
    },
    {
     "data": {
      "text/plain": [
       "0.5"
      ]
     },
     "execution_count": 3,
     "metadata": {},
     "output_type": "execute_result"
    }
   ],
   "execution_count": 3
  }
 ],
 "metadata": {
  "kernelspec": {
   "display_name": "Python 3",
   "language": "python",
   "name": "python3"
  },
  "language_info": {
   "codemirror_mode": {
    "name": "ipython",
    "version": 2
   },
   "file_extension": ".py",
   "mimetype": "text/x-python",
   "name": "python",
   "nbconvert_exporter": "python",
   "pygments_lexer": "ipython2",
   "version": "2.7.6"
  }
 },
 "nbformat": 4,
 "nbformat_minor": 5
}

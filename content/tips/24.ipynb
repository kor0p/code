{
 "cells": [
  {
   "metadata": {
    "ExecuteTime": {
     "end_time": "2024-05-19T13:02:39.843233Z",
     "start_time": "2024-05-19T13:02:39.828320Z"
    }
   },
   "cell_type": "code",
   "source": "sum(i for i in range(10))",
   "id": "3fc9c66094a911bb",
   "outputs": [
    {
     "data": {
      "text/plain": [
       "45"
      ]
     },
     "execution_count": 1,
     "metadata": {},
     "output_type": "execute_result"
    }
   ],
   "execution_count": 1
  },
  {
   "metadata": {
    "ExecuteTime": {
     "end_time": "2024-05-19T13:02:39.854708Z",
     "start_time": "2024-05-19T13:02:39.846485Z"
    }
   },
   "cell_type": "code",
   "source": "sum(i for i in range(10) if i % 2 == 0)",
   "id": "initial_id",
   "outputs": [
    {
     "data": {
      "text/plain": [
       "20"
      ]
     },
     "execution_count": 2,
     "metadata": {},
     "output_type": "execute_result"
    }
   ],
   "execution_count": 2
  },
  {
   "metadata": {
    "ExecuteTime": {
     "end_time": "2024-05-19T13:02:39.874959Z",
     "start_time": "2024-05-19T13:02:39.867855Z"
    }
   },
   "cell_type": "code",
   "source": "sum(i for i in range(10), start=100)",
   "id": "f14f28b0074c4633",
   "outputs": [
    {
     "ename": "SyntaxError",
     "evalue": "Generator expression must be parenthesized (1931147527.py, line 1)",
     "output_type": "error",
     "traceback": [
      "\u001B[0;36m  Cell \u001B[0;32mIn[3], line 1\u001B[0;36m\u001B[0m\n\u001B[0;31m    sum(i for i in range(10), start=100)\u001B[0m\n\u001B[0m        ^\u001B[0m\n\u001B[0;31mSyntaxError\u001B[0m\u001B[0;31m:\u001B[0m Generator expression must be parenthesized\n"
     ]
    }
   ],
   "execution_count": 3
  },
  {
   "metadata": {
    "ExecuteTime": {
     "end_time": "2024-05-19T13:02:42.826174Z",
     "start_time": "2024-05-19T13:02:42.818435Z"
    }
   },
   "cell_type": "code",
   "source": "sum((i for i in range(10)), start=100)",
   "id": "501c770ef95a4870",
   "outputs": [
    {
     "data": {
      "text/plain": [
       "145"
      ]
     },
     "execution_count": 4,
     "metadata": {},
     "output_type": "execute_result"
    }
   ],
   "execution_count": 4
  }
 ],
 "metadata": {
  "kernelspec": {
   "display_name": "Python 3",
   "language": "python",
   "name": "python3"
  },
  "language_info": {
   "codemirror_mode": {
    "name": "ipython",
    "version": 2
   },
   "file_extension": ".py",
   "mimetype": "text/x-python",
   "name": "python",
   "nbconvert_exporter": "python",
   "pygments_lexer": "ipython2",
   "version": "2.7.6"
  }
 },
 "nbformat": 4,
 "nbformat_minor": 5
}

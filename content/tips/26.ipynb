{
 "cells": [
  {
   "cell_type": "code",
   "id": "initial_id",
   "metadata": {
    "collapsed": true,
    "ExecuteTime": {
     "end_time": "2024-05-26T20:12:03.414733Z",
     "start_time": "2024-05-26T20:12:03.408113Z"
    }
   },
   "source": [
    "maybe_error = lambda x: 1/x\n",
    "error = lambda: 1/0\n",
    "\n",
    "try:\n",
    "    maybe_error(0)\n",
    "    print('УРААА! ПЕРЕМОГА БУДЕ!')\n",
    "    error()\n",
    "except:\n",
    "    print('ЗРАДА!')"
   ],
   "outputs": [
    {
     "name": "stdout",
     "output_type": "stream",
     "text": [
      "ЗРАДА!\n"
     ]
    }
   ],
   "execution_count": 1
  },
  {
   "cell_type": "code",
   "source": [
    "try:\n",
    "    maybe_error(1)\n",
    "    print('УРААА! ПЕРЕМОГА БУДЕ!')\n",
    "    error()\n",
    "except:\n",
    "    print('ЗРАДА!')"
   ],
   "metadata": {
    "collapsed": false,
    "ExecuteTime": {
     "end_time": "2024-05-26T20:12:04.392043Z",
     "start_time": "2024-05-26T20:12:04.385982Z"
    }
   },
   "id": "cceabadeac81ede1",
   "outputs": [
    {
     "name": "stdout",
     "output_type": "stream",
     "text": [
      "УРААА! ПЕРЕМОГА БУДЕ!\n",
      "ЗРАДА!\n"
     ]
    }
   ],
   "execution_count": 2
  },
  {
   "cell_type": "code",
   "source": [
    "try:\n",
    "    maybe_error(0)\n",
    "except:\n",
    "    print('ЗРАДА!')\n",
    "else:\n",
    "    print('УРААА! ПЕРЕМОГА БУДЕ!')\n",
    "    error()"
   ],
   "metadata": {
    "collapsed": false,
    "ExecuteTime": {
     "end_time": "2024-05-26T20:12:04.962535Z",
     "start_time": "2024-05-26T20:12:04.955541Z"
    }
   },
   "id": "d4c990b83256418a",
   "outputs": [
    {
     "name": "stdout",
     "output_type": "stream",
     "text": [
      "ЗРАДА!\n"
     ]
    }
   ],
   "execution_count": 3
  },
  {
   "cell_type": "code",
   "source": [
    "try:\n",
    "    maybe_error(1)\n",
    "except:\n",
    "    print('ЗРАДА!')\n",
    "else:\n",
    "    print('УРААА! ПЕРЕМОГА БУДЕ!')\n",
    "    error()"
   ],
   "metadata": {
    "collapsed": false,
    "ExecuteTime": {
     "end_time": "2024-05-26T20:12:05.835062Z",
     "start_time": "2024-05-26T20:12:05.499097Z"
    }
   },
   "id": "f1625fcf90f2e80",
   "outputs": [
    {
     "name": "stdout",
     "output_type": "stream",
     "text": [
      "УРААА! ПЕРЕМОГА БУДЕ!\n"
     ]
    },
    {
     "ename": "ZeroDivisionError",
     "evalue": "division by zero",
     "output_type": "error",
     "traceback": [
      "\u001B[0;31m---------------------------------------------------------------------------\u001B[0m",
      "\u001B[0;31mZeroDivisionError\u001B[0m                         Traceback (most recent call last)",
      "Cell \u001B[0;32mIn[4], line 7\u001B[0m\n\u001B[1;32m      5\u001B[0m \u001B[38;5;28;01melse\u001B[39;00m:\n\u001B[1;32m      6\u001B[0m     \u001B[38;5;28mprint\u001B[39m(\u001B[38;5;124m'\u001B[39m\u001B[38;5;124mУРААА! ПЕРЕМОГА БУДЕ!\u001B[39m\u001B[38;5;124m'\u001B[39m)\n\u001B[0;32m----> 7\u001B[0m     \u001B[43merror\u001B[49m\u001B[43m(\u001B[49m\u001B[43m)\u001B[49m\n",
      "Cell \u001B[0;32mIn[1], line 2\u001B[0m, in \u001B[0;36m<lambda>\u001B[0;34m()\u001B[0m\n\u001B[1;32m      1\u001B[0m maybe_error \u001B[38;5;241m=\u001B[39m \u001B[38;5;28;01mlambda\u001B[39;00m x: \u001B[38;5;241m1\u001B[39m\u001B[38;5;241m/\u001B[39mx\n\u001B[0;32m----> 2\u001B[0m error \u001B[38;5;241m=\u001B[39m \u001B[38;5;28;01mlambda\u001B[39;00m: \u001B[38;5;241;43m1\u001B[39;49m\u001B[38;5;241;43m/\u001B[39;49m\u001B[38;5;241;43m0\u001B[39;49m\n\u001B[1;32m      4\u001B[0m \u001B[38;5;28;01mtry\u001B[39;00m:\n\u001B[1;32m      5\u001B[0m     maybe_error(\u001B[38;5;241m0\u001B[39m)\n",
      "\u001B[0;31mZeroDivisionError\u001B[0m: division by zero"
     ]
    }
   ],
   "execution_count": 4
  },
  {
   "metadata": {
    "ExecuteTime": {
     "end_time": "2024-05-26T20:12:07.003651Z",
     "start_time": "2024-05-26T20:12:06.997218Z"
    }
   },
   "cell_type": "code",
   "source": [
    "def do_stuff(n):\n",
    "    try:\n",
    "        result = 1 / n\n",
    "    except ZeroDivisionError as err:\n",
    "        print('ЗРАДА!')\n",
    "        data = {'error': err}\n",
    "    else:\n",
    "        print('УРААА! ПЕРЕМОГА БУДЕ!')\n",
    "        data = {'result': result}\n",
    "\n",
    "    data['input'] = n\n",
    "    return data"
   ],
   "id": "c82f81b89066314",
   "outputs": [],
   "execution_count": 5
  },
  {
   "metadata": {
    "ExecuteTime": {
     "end_time": "2024-05-26T20:12:08.160708Z",
     "start_time": "2024-05-26T20:12:08.145981Z"
    }
   },
   "cell_type": "code",
   "source": "do_stuff(1)",
   "id": "4248d6534be9256f",
   "outputs": [
    {
     "name": "stdout",
     "output_type": "stream",
     "text": [
      "УРААА! ПЕРЕМОГА БУДЕ!\n"
     ]
    },
    {
     "data": {
      "text/plain": [
       "{'result': 1.0, 'input': 1}"
      ]
     },
     "execution_count": 6,
     "metadata": {},
     "output_type": "execute_result"
    }
   ],
   "execution_count": 6
  },
  {
   "metadata": {
    "ExecuteTime": {
     "end_time": "2024-05-26T20:12:08.945154Z",
     "start_time": "2024-05-26T20:12:08.935127Z"
    }
   },
   "cell_type": "code",
   "source": "do_stuff(0)",
   "id": "964cd511ff5e72e3",
   "outputs": [
    {
     "name": "stdout",
     "output_type": "stream",
     "text": [
      "ЗРАДА!\n"
     ]
    },
    {
     "data": {
      "text/plain": [
       "{'error': ZeroDivisionError('division by zero'), 'input': 0}"
      ]
     },
     "execution_count": 7,
     "metadata": {},
     "output_type": "execute_result"
    }
   ],
   "execution_count": 7
  }
 ],
 "metadata": {
  "kernelspec": {
   "display_name": "Python 3",
   "language": "python",
   "name": "python3"
  },
  "language_info": {
   "codemirror_mode": {
    "name": "ipython",
    "version": 2
   },
   "file_extension": ".py",
   "mimetype": "text/x-python",
   "name": "python",
   "nbconvert_exporter": "python",
   "pygments_lexer": "ipython2",
   "version": "2.7.6"
  }
 },
 "nbformat": 4,
 "nbformat_minor": 5
}

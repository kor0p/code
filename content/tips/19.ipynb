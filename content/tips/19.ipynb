{
 "cells": [
  {
   "metadata": {},
   "cell_type": "markdown",
   "source": "Якщо вам треба об'єднати два словники, ви, мабуть, використаєте метод `update()` ?",
   "id": "3894e5e5dc856eca"
  },
  {
   "metadata": {
    "ExecuteTime": {
     "end_time": "2024-05-16T20:14:04.558039Z",
     "start_time": "2024-05-16T20:14:04.549961Z"
    }
   },
   "cell_type": "code",
   "source": [
    "d1 = {'y': 2}\n",
    "d2 = {'x': 1}\n",
    "d2.update(d1)\n",
    "d2"
   ],
   "id": "initial_id",
   "outputs": [
    {
     "data": {
      "text/plain": [
       "{'x': 1, 'y': 2}"
      ]
     },
     "execution_count": 6,
     "metadata": {},
     "output_type": "execute_result"
    }
   ],
   "execution_count": 6
  },
  {
   "metadata": {},
   "cell_type": "markdown",
   "source": "Або використаєте розпакування `**` ?)",
   "id": "e7a81f152da59e03"
  },
  {
   "metadata": {
    "ExecuteTime": {
     "end_time": "2024-05-16T20:14:04.593664Z",
     "start_time": "2024-05-16T20:14:04.586822Z"
    }
   },
   "cell_type": "code",
   "source": [
    "d1 = {'y': 2}\n",
    "d2 = {'x': 1, **d1}\n",
    "d2"
   ],
   "id": "8d8b41d9337348a",
   "outputs": [
    {
     "data": {
      "text/plain": [
       "{'x': 1, 'y': 2}"
      ]
     },
     "execution_count": 7,
     "metadata": {},
     "output_type": "execute_result"
    }
   ],
   "execution_count": 7
  },
  {
   "metadata": {},
   "cell_type": "markdown",
   "source": "А ви спробуйте використати `|`, який доступний уже з Python3.9 🔥",
   "id": "3218dfd0743ecd2b"
  },
  {
   "metadata": {
    "ExecuteTime": {
     "end_time": "2024-05-16T20:14:04.627618Z",
     "start_time": "2024-05-16T20:14:04.618392Z"
    }
   },
   "cell_type": "code",
   "source": [
    "d1 = {'y': 2}\n",
    "d2 = {'x': 1} | d1\n",
    "d2"
   ],
   "id": "9e294cc57c02d454",
   "outputs": [
    {
     "data": {
      "text/plain": [
       "{'x': 1, 'y': 2}"
      ]
     },
     "execution_count": 8,
     "metadata": {},
     "output_type": "execute_result"
    }
   ],
   "execution_count": 8
  }
 ],
 "metadata": {
  "kernelspec": {
   "display_name": "Python 3",
   "language": "python",
   "name": "python3"
  },
  "language_info": {
   "codemirror_mode": {
    "name": "ipython",
    "version": 2
   },
   "file_extension": ".py",
   "mimetype": "text/x-python",
   "name": "python",
   "nbconvert_exporter": "python",
   "pygments_lexer": "ipython2",
   "version": "2.7.6"
  }
 },
 "nbformat": 4,
 "nbformat_minor": 5
}

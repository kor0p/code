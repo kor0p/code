{
 "cells": [
  {
   "cell_type": "code",
   "id": "initial_id",
   "metadata": {
    "collapsed": true,
    "ExecuteTime": {
     "end_time": "2024-05-19T11:23:48.708962Z",
     "start_time": "2024-05-19T11:23:48.702604Z"
    }
   },
   "source": "from functools import partial",
   "outputs": [],
   "execution_count": 1
  },
  {
   "metadata": {},
   "cell_type": "markdown",
   "source": "Сет — мутабельний, тому коли ми передаємо його як аргумент, Пайтон передає його референс, відповідно навіть при відкладеному виконанні ми побачимо актуальне значення",
   "id": "158549d94c79b7b8"
  },
  {
   "metadata": {
    "ExecuteTime": {
     "end_time": "2024-05-19T11:23:48.737138Z",
     "start_time": "2024-05-19T11:23:48.730735Z"
    }
   },
   "cell_type": "code",
   "source": [
    "a = {1, 2}\n",
    "print_later = partial(print, a)\n",
    "a -= {1}\n",
    "print_later()"
   ],
   "id": "b6c54852a73a3028",
   "outputs": [
    {
     "name": "stdout",
     "output_type": "stream",
     "text": [
      "{2}\n"
     ]
    }
   ],
   "execution_count": 2
  },
  {
   "metadata": {},
   "cell_type": "markdown",
   "source": "Числа — іммутабельні, і тому Пайтон передає НЕ референс, а реальне значення",
   "id": "c781e2e5cfe4ab67"
  },
  {
   "metadata": {
    "ExecuteTime": {
     "end_time": "2024-05-19T11:23:48.768598Z",
     "start_time": "2024-05-19T11:23:48.761995Z"
    }
   },
   "cell_type": "code",
   "source": [
    "b = 10\n",
    "print_later = partial(print, b)\n",
    "b -= 1\n",
    "print_later()"
   ],
   "id": "14528ae7b7e6d7e4",
   "outputs": [
    {
     "name": "stdout",
     "output_type": "stream",
     "text": [
      "10\n"
     ]
    }
   ],
   "execution_count": 3
  },
  {
   "metadata": {},
   "cell_type": "markdown",
   "source": [
    "Числа у Пайтоні — іммутабельний об'єкт. Але якщо його запихнути у список — уже ні?\n",
    "\n",
    "Ні, число досі іммутабельне, а саме список — ні. У цьому прикладі ми не змінюємо число, а оновлюємо конкретну змінну (перший елемент списку)"
   ],
   "id": "57d4a02c15129552"
  },
  {
   "metadata": {
    "ExecuteTime": {
     "end_time": "2024-05-19T11:23:48.798432Z",
     "start_time": "2024-05-19T11:23:48.792076Z"
    }
   },
   "cell_type": "code",
   "source": [
    "c = [10]\n",
    "print_later = partial(print, c)\n",
    "c[0] -= 1\n",
    "print_later()"
   ],
   "id": "869f140c1ddc49b",
   "outputs": [
    {
     "name": "stdout",
     "output_type": "stream",
     "text": [
      "[9]\n"
     ]
    }
   ],
   "execution_count": 4
  }
 ],
 "metadata": {
  "kernelspec": {
   "display_name": "Python 3",
   "language": "python",
   "name": "python3"
  },
  "language_info": {
   "codemirror_mode": {
    "name": "ipython",
    "version": 2
   },
   "file_extension": ".py",
   "mimetype": "text/x-python",
   "name": "python",
   "nbconvert_exporter": "python",
   "pygments_lexer": "ipython2",
   "version": "2.7.6"
  }
 },
 "nbformat": 4,
 "nbformat_minor": 5
}

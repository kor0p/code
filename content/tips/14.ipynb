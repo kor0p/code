{
 "cells": [
  {
   "cell_type": "markdown",
   "source": [
    "## Своя реалізація `all()`"
   ],
   "metadata": {
    "collapsed": false
   },
   "id": "bf19fb552d6a9bd7"
  },
  {
   "cell_type": "code",
   "execution_count": 2,
   "outputs": [],
   "source": [
    "def my_all(items):\n",
    "    for item in items:\n",
    "        if not item:\n",
    "            return False\n",
    "    return True"
   ],
   "metadata": {
    "collapsed": true,
    "ExecuteTime": {
     "end_time": "2024-05-07T12:19:19.082343182Z",
     "start_time": "2024-05-07T12:19:19.076506866Z"
    }
   },
   "id": "initial_id"
  },
  {
   "cell_type": "code",
   "execution_count": 3,
   "outputs": [
    {
     "data": {
      "text/plain": "True"
     },
     "execution_count": 3,
     "metadata": {},
     "output_type": "execute_result"
    }
   ],
   "source": [
    "my_all([True, 'a', 1, {'x': 0}, [0], (0,)])"
   ],
   "metadata": {
    "collapsed": false,
    "ExecuteTime": {
     "end_time": "2024-05-07T12:19:20.060443630Z",
     "start_time": "2024-05-07T12:19:20.048653776Z"
    }
   },
   "id": "8ecc605a0c5b6eb3"
  },
  {
   "cell_type": "code",
   "execution_count": 4,
   "outputs": [
    {
     "data": {
      "text/plain": "False"
     },
     "execution_count": 4,
     "metadata": {},
     "output_type": "execute_result"
    }
   ],
   "source": [
    "my_all([1, 0, 1, 1])"
   ],
   "metadata": {
    "collapsed": false,
    "ExecuteTime": {
     "end_time": "2024-05-07T12:19:33.787191612Z",
     "start_time": "2024-05-07T12:19:33.769521908Z"
    }
   },
   "id": "69f96dcdf7d2b66e"
  },
  {
   "cell_type": "markdown",
   "source": [
    "### Якщо передати пустий список, обидві реалізації повернуть `True`"
   ],
   "metadata": {
    "collapsed": false
   },
   "id": "320ac383f5acfc09"
  },
  {
   "cell_type": "code",
   "execution_count": 5,
   "outputs": [
    {
     "data": {
      "text/plain": "True"
     },
     "execution_count": 5,
     "metadata": {},
     "output_type": "execute_result"
    }
   ],
   "source": [
    "my_all([])"
   ],
   "metadata": {
    "collapsed": false,
    "ExecuteTime": {
     "end_time": "2024-05-07T12:19:39.697634690Z",
     "start_time": "2024-05-07T12:19:39.677154991Z"
    }
   },
   "id": "e6f2e0771e7f0034"
  },
  {
   "cell_type": "code",
   "execution_count": 6,
   "outputs": [
    {
     "data": {
      "text/plain": "True"
     },
     "execution_count": 6,
     "metadata": {},
     "output_type": "execute_result"
    }
   ],
   "source": [
    "all([])"
   ],
   "metadata": {
    "collapsed": false,
    "ExecuteTime": {
     "end_time": "2024-05-07T12:19:42.965482847Z",
     "start_time": "2024-05-07T12:19:42.933368906Z"
    }
   },
   "id": "6f9847ce9b2f7594"
  }
 ],
 "metadata": {
  "kernelspec": {
   "display_name": "Python 3",
   "language": "python",
   "name": "python3"
  },
  "language_info": {
   "codemirror_mode": {
    "name": "ipython",
    "version": 2
   },
   "file_extension": ".py",
   "mimetype": "text/x-python",
   "name": "python",
   "nbconvert_exporter": "python",
   "pygments_lexer": "ipython2",
   "version": "2.7.6"
  }
 },
 "nbformat": 4,
 "nbformat_minor": 5
}

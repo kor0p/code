{
 "cells": [
  {
   "cell_type": "code",
   "id": "initial_id",
   "metadata": {
    "collapsed": true,
    "ExecuteTime": {
     "end_time": "2024-10-23T19:52:12.856825Z",
     "start_time": "2024-10-23T19:52:12.848064Z"
    }
   },
   "source": "from datetime import datetime",
   "outputs": [],
   "execution_count": 1
  },
  {
   "metadata": {
    "ExecuteTime": {
     "end_time": "2024-10-23T19:52:16.028093Z",
     "start_time": "2024-10-23T19:52:16.017704Z"
    }
   },
   "cell_type": "code",
   "source": "f'{datetime.now()}'",
   "id": "bb70e54fad5f88ba",
   "outputs": [
    {
     "data": {
      "text/plain": [
       "'2024-10-23 22:52:16.019381'"
      ]
     },
     "execution_count": 2,
     "metadata": {},
     "output_type": "execute_result"
    }
   ],
   "execution_count": 2
  },
  {
   "metadata": {
    "ExecuteTime": {
     "end_time": "2024-10-23T19:52:21.447974Z",
     "start_time": "2024-10-23T19:52:21.435988Z"
    }
   },
   "cell_type": "code",
   "source": "f'{datetime.now():%d.%m.%Y %H:%M}'",
   "id": "560e3f36f5e08ed8",
   "outputs": [
    {
     "data": {
      "text/plain": [
       "'23.10.2024 22:52'"
      ]
     },
     "execution_count": 3,
     "metadata": {},
     "output_type": "execute_result"
    }
   ],
   "execution_count": 3
  },
  {
   "metadata": {},
   "cell_type": "markdown",
   "source": "🔥 Замість `.strftime()` можна використовувати форматування через f-стрічки",
   "id": "3d6c3662e8926ea8"
  }
 ],
 "metadata": {
  "kernelspec": {
   "display_name": "Python 3",
   "language": "python",
   "name": "python3"
  },
  "language_info": {
   "codemirror_mode": {
    "name": "ipython",
    "version": 2
   },
   "file_extension": ".py",
   "mimetype": "text/x-python",
   "name": "python",
   "nbconvert_exporter": "python",
   "pygments_lexer": "ipython2",
   "version": "2.7.6"
  }
 },
 "nbformat": 4,
 "nbformat_minor": 5
}
